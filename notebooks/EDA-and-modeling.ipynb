{
 "cells": [
  {
   "cell_type": "markdown",
   "metadata": {},
   "source": [
    "## EDA\n",
    "\n"
   ]
  },
  {
   "cell_type": "markdown",
   "metadata": {},
   "source": [
    "### Distribution of data\n",
    "\n",
    "-Visualization still missing"
   ]
  },
  {
   "cell_type": "code",
   "execution_count": null,
   "metadata": {
    "slideshow": {
     "slide_type": "skip"
    }
   },
   "outputs": [],
   "source": [
    "# Import packages\n",
    "import pandas as pd\n",
    "import glob\n",
    "from matplotlib import pyplot as plt\n",
    "import os\n",
    "import cv2\n",
    "import random\n",
    "import numpy as np"
   ]
  },
  {
   "cell_type": "code",
   "execution_count": null,
   "metadata": {},
   "outputs": [],
   "source": [
    "# Load the dataframe names into a list\n",
    "path_corrected = '../data/areas/corrected'\n",
    "filenames_corrected = glob.glob(path_corrected + \"/*.csv\")\n",
    "filenames_corrected.sort()\n",
    "\n",
    "path_uncorrected = '../data/areas/uncorrected'\n",
    "filenames_uncorrected = glob.glob(path_uncorrected + \"/*.csv\")\n",
    "filenames_uncorrected.sort()"
   ]
  },
  {
   "cell_type": "code",
   "execution_count": null,
   "metadata": {},
   "outputs": [],
   "source": [
    "# Load the dataframes into a list\n",
    "dataframes_corr_list = []\n",
    "for i in range(len(filenames_corrected)):\n",
    "    temp_df = pd.read_csv(filenames_corrected[i])\n",
    "    dataframes_corr_list.append(temp_df)\n",
    "\n",
    "dataframes_uncorr_list = []\n",
    "for i in range(len(filenames_uncorrected)):\n",
    "    temp_df = pd.read_csv(filenames_uncorrected[i])\n",
    "    dataframes_uncorr_list.append(temp_df)"
   ]
  },
  {
   "cell_type": "code",
   "execution_count": null,
   "metadata": {},
   "outputs": [],
   "source": [
    "# Replace 1,2,3 with Fracture, Pore, Tiny Pore\n",
    "for i in range(len(dataframes_uncorr_list)):    \n",
    "    temp_df = dataframes_uncorr_list[i]\n",
    "    temp_df['label_id'].replace([1,2,3], ['Fracture', 'Pore', 'Tiny Pore'], inplace=True)\n",
    "    dataframes_uncorr_list[i] == temp_df\n",
    "\n",
    "for i in range(len(dataframes_corr_list)):\n",
    "    temp_df = dataframes_corr_list[i]\n",
    "    temp_df['label_id'].replace([1,2,3], ['Fracture', 'Pore', 'Tiny Pore'], inplace=True)\n",
    "    dataframes_corr_list[i] == temp_df\n",
    "\n"
   ]
  },
  {
   "cell_type": "code",
   "execution_count": null,
   "metadata": {},
   "outputs": [],
   "source": [
    "# All elements of uncorrected list\n",
    "all_elements = 0\n",
    "elements_per_image = []\n",
    "for i in range(len(dataframes_uncorr_list)):    \n",
    "    temp_df = dataframes_uncorr_list[i]\n",
    "    elements = len(temp_df)\n",
    "    elements_per_image.append(elements)\n",
    "    all_elements += elements\n",
    "\n",
    "print(f'The total number of uncorrected elements are: {all_elements}')\n",
    "print(f'The number of uncorrected elements per image are: {*elements_per_image,}')"
   ]
  },
  {
   "cell_type": "code",
   "execution_count": null,
   "metadata": {},
   "outputs": [],
   "source": [
    "# All elements of corrected list\n",
    "all_elements = 0\n",
    "elements_per_image = []\n",
    "for i in range(len(dataframes_corr_list)):    \n",
    "    temp_df = dataframes_corr_list[i]\n",
    "    elements = len(temp_df)\n",
    "    elements_per_image.append(elements)\n",
    "    all_elements += elements   \n",
    "\n",
    "print(f'The total number of corrected elements are: {all_elements}')\n",
    "print(f'The number of corrected elements per image are: {*elements_per_image,}')"
   ]
  },
  {
   "cell_type": "code",
   "execution_count": null,
   "metadata": {},
   "outputs": [],
   "source": [
    "# Number of elements per class\n",
    "total_frac_size = 0\n",
    "total_pore_size = 0\n",
    "total_tiny_pore_size = 0\n",
    "\n",
    "for i in range(len(dataframes_corr_list)):    \n",
    "    temp_df = dataframes_corr_list[i]\n",
    "    temp_sizes = temp_df.groupby('label_id').count().reset_index()\n",
    "    total_frac_size += temp_sizes.at[0, 'grain_id']\n",
    "    total_pore_size += temp_sizes.at[1, 'grain_id']\n",
    "    total_tiny_pore_size += temp_sizes.at[2, 'grain_id']\n",
    "\n",
    "print(f'The total number of fractures are equal to {total_frac_size}')\n",
    "print(f'The total number of pores are equal to {total_pore_size}')\n",
    "print(f'The total number of tiny pores are equal to {total_tiny_pore_size}')"
   ]
  },
  {
   "cell_type": "code",
   "execution_count": null,
   "metadata": {},
   "outputs": [],
   "source": [
    "# Total area for each class\n",
    "# Number of elements per class\n",
    "total_frac_area = 0\n",
    "total_pore_area = 0\n",
    "total_tiny_pore_area = 0\n",
    "\n",
    "for i in range(len(dataframes_corr_list)):    \n",
    "    temp_df = dataframes_corr_list[i]\n",
    "    temp_sizes = temp_df.groupby('label_id').sum().reset_index()\n",
    "    total_frac_area += temp_sizes.at[0, 'area']\n",
    "    total_pore_area += temp_sizes.at[1, 'area']\n",
    "    total_tiny_pore_area += temp_sizes.at[2, 'area']\n",
    "\n",
    "print(f'The total area of fractures is equal to {round(total_frac_area/(total_frac_area+total_pore_area+total_tiny_pore_area)*100)}%')\n",
    "print(f'The total area of pores is equal to {round(total_pore_area/(total_frac_area+total_pore_area+total_tiny_pore_area)*100)}%')\n",
    "print(f'The total area of tiny pores is equal to {round(total_tiny_pore_area/(total_frac_area+total_pore_area+total_tiny_pore_area)*100)}%')\n",
    "\n"
   ]
  },
  {
   "cell_type": "markdown",
   "metadata": {},
   "source": [
    "### Baseline model\n",
    "The current approach employs a CNN for segmentation and a simple decision tree for labelling.\n",
    "The labelling is then later corrected by hand. The difference between the original labelling and the corrections will give us an estimate of the current error (minus error introduced by human error)."
   ]
  },
  {
   "cell_type": "code",
   "execution_count": null,
   "metadata": {},
   "outputs": [],
   "source": [
    "# Difference in area for both classes\n",
    "frac_error = []\n",
    "pore_error = []\n",
    "\n",
    "for i in range(len(dataframes_corr_list)):\n",
    "    # Get the area of the corrected images\n",
    "    temp_df_corr = dataframes_corr_list[i]\n",
    "    temp_sizes_corr = temp_df_corr.groupby('label_id').sum().reset_index()\n",
    "    total_frac_area_corr = temp_sizes_corr.at[0, 'area']\n",
    "    total_pore_area_corr = temp_sizes_corr.at[1, 'area']\n",
    "    # Get the area of the uncorrected images\n",
    "    temp_df_uncorr = dataframes_uncorr_list[i]\n",
    "    temp_sizes_uncorr = temp_df_uncorr.groupby('label_id').sum().reset_index()\n",
    "    total_frac_area_uncorr = temp_sizes_uncorr.at[0, 'area']\n",
    "    total_pore_area_uncorr = temp_sizes_uncorr.at[1, 'area']\n",
    "    # Get the difference \n",
    "    total_frac_difference = abs(total_frac_area_corr-total_frac_area_uncorr)/total_frac_area_uncorr\n",
    "    total_pore_difference = abs(total_pore_area_corr-total_pore_area_uncorr)/total_pore_area_uncorr\n",
    "\n",
    "    percent_frac_difference = round(total_frac_difference*100)\n",
    "    percent_pore_difference = round(total_pore_difference*100)\n",
    "\n",
    "    frac_error.append(percent_frac_difference)\n",
    "    pore_error.append(percent_pore_difference)\n",
    "\n",
    "print(f'The error of classification (%) for fractures within each image is equal to: {*frac_error,}')\n",
    "print(f'The error of classification (%) for pores within each image is equal to: {*pore_error,}')\n",
    "\n",
    "mean_error_frac = sum(frac_error)/len(frac_error)\n",
    "mean_error_pore = sum(pore_error)/len(pore_error)\n",
    "\n",
    "print(f'The mean area error for fractures is equal to {round(mean_error_frac)}%')\n",
    "print(f'The mean area error for pores is equal to {round(mean_error_pore)}%')"
   ]
  },
  {
   "cell_type": "code",
   "execution_count": null,
   "metadata": {},
   "outputs": [],
   "source": [
    "# Wrongly classified objects in total and percent\n",
    "frac_error = []\n",
    "pore_error = []\n",
    "\n",
    "for i in range(len(dataframes_corr_list)):\n",
    "    # Get the area of the corrected images\n",
    "    temp_df_corr = dataframes_corr_list[i]\n",
    "    temp_number_corr = temp_df_corr.groupby('label_id').count().reset_index()\n",
    "    total_frac_corr = temp_number_corr.at[0, 'grain_id']\n",
    "    total_pore_corr = temp_number_corr.at[1, 'grain_id']\n",
    "\n",
    "    # Get the area of the uncorrected images\n",
    "    temp_df_uncorr = dataframes_uncorr_list[i]\n",
    "    temp_sizes_uncorr = temp_df_uncorr.groupby('label_id').count().reset_index()\n",
    "    #print(temp_sizes_uncorr)\n",
    "    total_frac_uncorr = temp_sizes_uncorr.at[0, 'grain_id']\n",
    "    total_pore_uncorr = temp_sizes_uncorr.at[1, 'grain_id']\n",
    "    # Get the difference \n",
    "    total_frac_difference = abs(total_frac_corr-total_frac_uncorr)/total_frac_uncorr\n",
    "    total_pore_difference = abs(total_pore_corr-total_pore_uncorr)/total_pore_uncorr\n",
    "\n",
    "    percent_frac_difference = round(total_frac_difference*100)\n",
    "    percent_pore_difference = round(total_pore_difference*100)\n",
    "\n",
    "    frac_error.append(percent_frac_difference)\n",
    "    pore_error.append(percent_pore_difference)\n",
    "\n"
   ]
  },
  {
   "cell_type": "code",
   "execution_count": null,
   "metadata": {},
   "outputs": [],
   "source": [
    "print(f'The error of classification (%) for fractures within each image is equal to: {*frac_error,}')\n",
    "print(f'The error of classification (%) for pores within each image is equal to: {*pore_error,}')\n",
    "\n",
    "mean_error_frac = sum(frac_error)/len(frac_error)\n",
    "mean_error_pore = sum(pore_error)/len(pore_error)\n",
    "\n",
    "print(f'The mean area error for fractures is equal to {round(mean_error_frac)}%')\n",
    "print(f'The amount of mi... pores is equal to {round(mean_error_pore)}%')"
   ]
  },
  {
   "cell_type": "markdown",
   "metadata": {},
   "source": [
    "### Data Image EDA"
   ]
  },
  {
   "cell_type": "code",
   "execution_count": null,
   "metadata": {},
   "outputs": [],
   "source": [
    "# load images and sort masks and images\n",
    "train_img_dir = '../data/data_train/train/images/train/'\n",
    "train_mask_dir = '../data/data_train/train/masks/train/'\n",
    "\n",
    "img_list = os.listdir(train_img_dir)\n",
    "img_list.sort()\n",
    "msk_list = os.listdir(train_mask_dir)\n",
    "msk_list.sort()\n",
    "num_images = len(os.listdir(train_img_dir))\n",
    "print(\"Total number of training images are: \", num_images)"
   ]
  },
  {
   "cell_type": "markdown",
   "metadata": {},
   "source": [
    "A total of 1020 image of size 512*512 exist for Training purposes"
   ]
  },
  {
   "cell_type": "code",
   "execution_count": null,
   "metadata": {},
   "outputs": [],
   "source": [
    "# Plot of some images as a sanity check\n",
    "img_num = random.randint(0, num_images-1)\n",
    "\n",
    "img_for_plot = cv2.imread(train_img_dir+img_list[img_num], 0)\n",
    "mask_for_plot =cv2.imread(train_mask_dir+msk_list[img_num], 0)\n",
    "\n",
    "plt.figure(figsize=(12, 8))\n",
    "plt.subplot(121)\n",
    "plt.imshow(img_for_plot, cmap='gray')\n",
    "plt.title('Image')\n",
    "plt.subplot(122)\n",
    "plt.imshow(mask_for_plot, cmap='gray')\n",
    "plt.title('Mask')\n",
    "plt.show()"
   ]
  },
  {
   "cell_type": "code",
   "execution_count": null,
   "metadata": {},
   "outputs": [],
   "source": [
    "print(\"Unique values in the mask are: \", np.unique(mask_for_plot))"
   ]
  },
  {
   "cell_type": "markdown",
   "metadata": {},
   "source": [
    "There are four distinct grayscale values of the four different classes."
   ]
  }
 ],
 "metadata": {
  "interpreter": {
   "hash": "fce1c7022bfe12e6241fab6e134680d8fdeb514a4f69a8524f2634ae3ff58bfb"
  },
  "kernelspec": {
   "display_name": "Python 3.9.8 ('.venv': venv)",
   "language": "python",
   "name": "python3"
  },
  "language_info": {
   "codemirror_mode": {
    "name": "ipython",
    "version": 3
   },
   "file_extension": ".py",
   "mimetype": "text/x-python",
   "name": "python",
   "nbconvert_exporter": "python",
   "pygments_lexer": "ipython3",
   "version": "3.9.8"
  },
  "metadata": {
   "interpreter": {
    "hash": "aee8b7b246df8f9039afb4144a1f6fd8d2ca17a180786b69acc140d282b71a49"
   }
  }
 },
 "nbformat": 4,
 "nbformat_minor": 4
}
