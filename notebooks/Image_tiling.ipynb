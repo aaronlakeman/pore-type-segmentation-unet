{
 "cells": [
  {
   "cell_type": "code",
   "execution_count": null,
   "metadata": {},
   "outputs": [],
   "source": [
    "from PIL import Image\n",
    "from itertools import product\n",
    "import os\n",
    "import glob"
   ]
  },
  {
   "cell_type": "code",
   "execution_count": null,
   "metadata": {},
   "outputs": [],
   "source": [
    "def make_tiles(dir_in:str, dir_out:str, d:int):\n",
    "    \"\"\"tiles all image files in a given folder\n",
    "    Args:\n",
    "        dir_in (str): directory with image files\n",
    "        dir_out (str): output directory\n",
    "        d (int): tilesize in pixels\n",
    "    \"\"\"\n",
    "    for filename in glob.glob(dir_in + '/*.png'): #assumes a .png file, change if not applicable\n",
    "        img = Image.open(filename)\n",
    "        name, ext = os.path.splitext(filename)\n",
    "        name = name.split('/')[1]\n",
    "        w, h = img.size\n",
    "        \n",
    "        grid = product(range(0, h-h%d, d), range(0, w-w%d, d))\n",
    "        for i, j in grid:\n",
    "            box = (j, i, j+d, i+d)\n",
    "            out = os.path.join(dir_out, f'{name}_{i}_{j}{ext}')\n",
    "            img.crop(box).save(out)"
   ]
  },
  {
   "cell_type": "code",
   "execution_count": null,
   "metadata": {},
   "outputs": [],
   "source": [
    "make_tiles(\"images\", \"tiled_images\", 200)"
   ]
  }
 ],
 "metadata": {
  "interpreter": {
   "hash": "fce1c7022bfe12e6241fab6e134680d8fdeb514a4f69a8524f2634ae3ff58bfb"
  },
  "kernelspec": {
   "display_name": "Python 3.9.8 ('.venv': venv)",
   "language": "python",
   "name": "python3"
  },
  "language_info": {
   "codemirror_mode": {
    "name": "ipython",
    "version": 3
   },
   "file_extension": ".py",
   "mimetype": "text/x-python",
   "name": "python",
   "nbconvert_exporter": "python",
   "pygments_lexer": "ipython3",
   "version": "3.9.8"
  }
 },
 "nbformat": 4,
 "nbformat_minor": 2
}
