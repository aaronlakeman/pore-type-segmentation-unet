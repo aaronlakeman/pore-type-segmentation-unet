{
 "cells": [
  {
   "cell_type": "code",
   "execution_count": null,
   "metadata": {},
   "outputs": [],
   "source": [
    "# load all necessary packages\n",
    "import os\n",
    "import sys\n",
    "\n",
    "import boto3\n",
    "import mlflow\n",
    "import segmentation_models as sm\n",
    "import tensorflow\n",
    "from matplotlib import pyplot as plt\n",
    "from tensorflow.keras.callbacks import (BackupAndRestore, EarlyStopping,\n",
    "                                        ModelCheckpoint)\n",
    "from tensorflow.keras.optimizers.schedules import ExponentialDecay\n",
    "\n",
    "sys.path.append('../modeling')\n",
    "from train import build_unet, preprocess_data, trainGenerator\n",
    "\n",
    "sm.set_framework('tf.keras')\n",
    "sm.framework()\n"
   ]
  },
  {
   "cell_type": "code",
   "execution_count": null,
   "metadata": {},
   "outputs": [],
   "source": [
    "# Define the model metrics\n",
    "seed = 69\n",
    "batch_size = 6\n",
    "n_classes = 4\n",
    "epochs = 5\n",
    "LR = 0.01\n",
    "\n",
    "# Learning Rate decay. questionable usefulness  with adam optimizer but here if we need it.\n",
    "decay = tensorflow.keras.optimizers.schedules.ExponentialDecay(\n",
    "    LR, 1000, 0.96, staircase=True\n",
    ")\n",
    "\n",
    "# Optimizer\n",
    "optimizer = tensorflow.keras.optimizers.Adam(decay)"
   ]
  },
  {
   "cell_type": "code",
   "execution_count": null,
   "metadata": {},
   "outputs": [],
   "source": [
    "train_img_path = '../data/data_train/train/images/'\n",
    "train_msk_path = '../data/data_train/train/masks/'\n",
    "train_img_gen = trainGenerator(train_img_path, train_msk_path, num_class=4, batch_size=batch_size, seed=seed)\n",
    "\n",
    "x, y = train_img_gen.__next__()"
   ]
  },
  {
   "cell_type": "code",
   "execution_count": null,
   "metadata": {},
   "outputs": [],
   "source": [
    "val_img_path = '../data/data_train/val/images/'\n",
    "val_msk_path = '../data/data_train/val/masks/'\n",
    "val_img_gen = trainGenerator(val_img_path, val_msk_path, num_class=4, batch_size=batch_size, seed=seed)\n",
    "\n",
    "x, y = val_img_gen.__next__()"
   ]
  },
  {
   "cell_type": "code",
   "execution_count": null,
   "metadata": {},
   "outputs": [],
   "source": [
    "num_train_images = len(os.listdir('../data/data_train/train/images/train'))\n",
    "num_val_images = len(os.listdir('../data/data_train/val/images/val/'))\n",
    "steps_per_epoch = num_train_images//batch_size\n",
    "val_steps_per_epoch = num_val_images//batch_size\n",
    "\n",
    "IMG_HEIGHT = x.shape[1]\n",
    "IMG_WIDTH  = x.shape[2]\n",
    "IMG_CHANNELS = x.shape[3]\n",
    "input_shape = (IMG_HEIGHT, IMG_WIDTH, IMG_CHANNELS)\n",
    "\n",
    "\n",
    "print(f'Input shape: {input_shape}\\nTraining images: {num_train_images}\\nValidation images: {num_val_images}\\nSteps per epoch: {steps_per_epoch}\\nValidation steps per epoch: {val_steps_per_epoch}' )"
   ]
  },
  {
   "cell_type": "code",
   "execution_count": null,
   "metadata": {},
   "outputs": [],
   "source": [
    "# Segmentation models losses can be combined together by '+' and scaled by integer or float factor\n",
    "mean_iou = tensorflow.keras.metrics.MeanIoU(num_classes=n_classes)\n",
    "dice_loss = sm.losses.DiceLoss() \n",
    "focal_loss = sm.losses.CategoricalFocalLoss()\n",
    "total_loss = dice_loss + (1 * focal_loss)\n",
    "metrics = [sm.metrics.IOUScore(threshold=0.5), mean_iou, sm.metrics.FScore(threshold=0.5)]"
   ]
  },
  {
   "cell_type": "code",
   "execution_count": null,
   "metadata": {},
   "outputs": [],
   "source": [
    "# Model name for saving\n",
    "loss_name = 'diceplusfocal'\n",
    "# Model type for saving\n",
    "model_type = 'StdUnet'\n",
    "#Model naming convention\n",
    "model_name = f'{model_type}_{loss_name}_epochs{epochs}_batchsize{batch_size}_learningrate{LR}'"
   ]
  },
  {
   "cell_type": "code",
   "execution_count": null,
   "metadata": {},
   "outputs": [],
   "source": [
    "# Build the model\n",
    "model = build_unet(input_shape, n_classes)\n",
    "model.compile(optimizer=optimizer, loss=total_loss, metrics=['accuracy', metrics])\n",
    "model.summary()"
   ]
  },
  {
   "cell_type": "code",
   "execution_count": null,
   "metadata": {},
   "outputs": [],
   "source": [
    "# CALLBACKS\n",
    "# Define early stopping criteria\n",
    "early_stopping = EarlyStopping(monitor='val_iou_score', # Quantity to monitor\n",
    "                patience = 10, # Number of epochs with no improvement. 0 means the training is terminated as soon as the performance measure gets worse from one epoch to the next.\n",
    "                min_delta = 0.0001,  # Minimum change in the monitored quantity to qualify as an improvement, i.e. an absolute change of less than min_delta, will count as no improvement. \n",
    "                mode = 'max',\n",
    "                baseline = 0.5,\n",
    "                verbose = 1\n",
    ")\n",
    "\n",
    "# Define mode checkpoints\n",
    "model_checkpoint = ModelCheckpoint(\n",
    "    filepath = f'../models/checkpoints/{model_name}_checkpoint.hdf5',\n",
    "    monitor='val_iou_score',\n",
    "    verbose=1,\n",
    "    save_best_only=True,\n",
    "    save_weights_only=False,\n",
    "    mode='max',\n",
    "    save_freq='epoch',\n",
    "    options=None,\n",
    "    initial_value_threshold=0.5,\n",
    ")\n",
    "\n",
    "# Backups in case of interruption\n",
    "model_backup = BackupAndRestore(\n",
    "    backup_dir = '../models/backup/'\n",
    ")\n",
    "\n",
    "callback_list=[early_stopping, model_checkpoint, model_backup]"
   ]
  },
  {
   "cell_type": "code",
   "execution_count": null,
   "metadata": {},
   "outputs": [],
   "source": [
    "# ML_FLOW \n",
    "TRACKING_URI = open('../.mlflow_uri').read().strip()\n",
    "mlflow.set_tracking_uri(TRACKING_URI)\n",
    "\n",
    "# Set an experiment name, which must be unique and case-sensitive.\n",
    "experiment = mlflow.set_experiment('magic rocks!')\n",
    "\n",
    "# Set run name and start run\n",
    "mlflow.start_run(run_name=f'{model_name}')\n",
    "mlflow.tensorflow.autolog()\n",
    "\n",
    "# Get Experiment Details\n",
    "print(\"Experiment_id: {}\".format(experiment.experiment_id))\n",
    "print(\"Artifact Location: {}\".format(experiment.artifact_location))\n",
    "print(\"Name: {}\".format(experiment.name))\n",
    "print(\"Lifecycle_stage: {}\".format(experiment.lifecycle_stage))"
   ]
  },
  {
   "cell_type": "code",
   "execution_count": null,
   "metadata": {},
   "outputs": [],
   "source": [
    "history=model.fit(train_img_gen,\n",
    "          steps_per_epoch=steps_per_epoch,\n",
    "          epochs=epochs,\n",
    "          verbose=1,\n",
    "          validation_data=val_img_gen,\n",
    "          validation_steps=val_steps_per_epoch,\n",
    "          callbacks=[callback_list])\n",
    "\n",
    "# End mlflow run\n",
    "mlflow.end_run()"
   ]
  },
  {
   "cell_type": "code",
   "execution_count": null,
   "metadata": {},
   "outputs": [],
   "source": [
    "#Save the model\n",
    "model.save(f'../models/{model_name}.hdf5')"
   ]
  },
  {
   "cell_type": "code",
   "execution_count": null,
   "metadata": {},
   "outputs": [],
   "source": [
    "#plot the training and validation accuracy and loss at each epoch\n",
    "loss = history.history['loss']\n",
    "val_loss = history.history['val_loss']\n",
    "epochs = range(1, len(loss) + 1)\n",
    "plt.plot(epochs, loss, 'y', label='Training loss')\n",
    "plt.plot(epochs, val_loss, 'r', label='Validation loss')\n",
    "plt.title('Training and validation loss')\n",
    "plt.xlabel('Epochs')\n",
    "plt.ylabel('Loss')\n",
    "plt.legend()\n",
    "plt.show()\n",
    "\n",
    "acc = history.history['accuracy']\n",
    "val_acc = history.history['val_accuracy']\n",
    "\n",
    "plt.plot(epochs, acc, 'y', label='Training Accuracy')\n",
    "plt.plot(epochs, val_acc, 'r', label='Validation Accuracy')\n",
    "plt.title('Training and validation Accuracy')\n",
    "plt.xlabel('Epochs')\n",
    "plt.ylabel('Accuracy')\n",
    "plt.legend()\n",
    "plt.show()\n",
    "plt.savefig(f'../models/{model_name}.jpg', dpi=150)"
   ]
  }
 ],
 "metadata": {
  "kernelspec": {
   "display_name": "Python 3.9.8 ('.venv': venv)",
   "language": "python",
   "name": "python3"
  },
  "language_info": {
   "codemirror_mode": {
    "name": "ipython",
    "version": 3
   },
   "file_extension": ".py",
   "mimetype": "text/x-python",
   "name": "python",
   "nbconvert_exporter": "python",
   "pygments_lexer": "ipython3",
   "version": "3.9.8"
  },
  "vscode": {
   "interpreter": {
    "hash": "fce1c7022bfe12e6241fab6e134680d8fdeb514a4f69a8524f2634ae3ff58bfb"
   }
  }
 },
 "nbformat": 4,
 "nbformat_minor": 2
}
