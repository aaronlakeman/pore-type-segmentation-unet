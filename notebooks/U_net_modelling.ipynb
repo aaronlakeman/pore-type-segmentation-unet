{
 "cells": [
  {
   "cell_type": "code",
   "execution_count": null,
   "metadata": {},
   "outputs": [],
   "source": [
    "# Load appropriate packages\n",
    "from simple_unet_model import simple_unet_model\n",
    "from tensorflow.keras.utils import normalize\n",
    "import os\n",
    "import cv2\n",
    "from PIL import Image\n",
    "import numpy as np\n",
    "from matplotlib import pyplot as plt\n",
    "from PIL import Image\n",
    "import glob"
   ]
  },
  {
   "cell_type": "code",
   "execution_count": null,
   "metadata": {},
   "outputs": [],
   "source": [
    "SIZE = 256 #Size in pixels (64*64 here) of individual images\n",
    "image_dataset = [] \n",
    "mask_dataset = [] \n",
    "\n",
    "# Resize and append images\n",
    "images = os.listdir(image_directory)\n",
    "for i, image_name in enumerate(images):    #Remember enumerate method adds a counter and returns the enumerate object\n",
    "    if (image_name.split('.')[1] == 'tif'):\n",
    "        image = cv2.imread(image_directory+image_name, 0)\n",
    "        image = Image.fromarray(image)\n",
    "        image = image.resize((SIZE, SIZE))\n",
    "        image_dataset.append(np.array(image))\n",
    "\n",
    "# Resize and apppend masks\n",
    "masks = os.listdir(mask_directory)\n",
    "for i, image_name in enumerate(masks):\n",
    "    if (image_name.split('.')[1] == 'tif'):\n",
    "        image = cv2.imread(mask_directory+image_name, 0)\n",
    "        image = Image.fromarray(image)\n",
    "        image = image.resize((SIZE, SIZE))\n",
    "        mask_dataset.append(np.array(image))\n"
   ]
  },
  {
   "cell_type": "code",
   "execution_count": null,
   "metadata": {},
   "outputs": [],
   "source": [
    "image = cv2.imread('images/test.tif')"
   ]
  },
  {
   "cell_type": "code",
   "execution_count": null,
   "metadata": {},
   "outputs": [],
   "source": [
    "flipVertical = cv2.flip(image, 0)\n",
    "fig = plt.imshow(flipVertical)"
   ]
  },
  {
   "cell_type": "code",
   "execution_count": null,
   "metadata": {},
   "outputs": [],
   "source": [
    "def flip(dir_in:str, dir_out:str, d:int):\n",
    "    \"\"\"tiles all image files in a given folder\n",
    "    Args:\n",
    "        dir_in (str): directory with image files\n",
    "        dir_out (str): output directory\n",
    "        d (int): axis of flip || 0 = vertical axis || 1 = horizontal axis || -1 = both axis\n",
    "    \"\"\"\n",
    "    for filename in glob.glob(dir_in + '/*.png'): #assumes a .png file, change if not applicable\n",
    "        img = Image.open(filename)\n",
    "        name, ext = os.path.splitext(filename)\n",
    "        name = name.split('/')[1]\n",
    "        \n",
    "        img = cv2.flip(img, d)\n",
    "        output = os.path.join(dir_out, f'{name}_{d}{ext}')\n",
    "        cv2.imwrite(output, img)"
   ]
  },
  {
   "cell_type": "code",
   "execution_count": null,
   "metadata": {},
   "outputs": [],
   "source": [
    "flip('images', 'tiled_images', 1)"
   ]
  },
  {
   "cell_type": "code",
   "execution_count": null,
   "metadata": {},
   "outputs": [],
   "source": [
    "def rotation(dir_in:str, dir_out:str, ang:list):\n",
    "    \"\"\"rotates images\n",
    "\n",
    "    Args:\n",
    "        dir_in (str): directory of images files\n",
    "        dir_out (str): output directory\n",
    "        ang (list): list of all angles of rotation\n",
    "    \"\"\"\n",
    "    for filename in glob.glob(dir_in + '/*.tif'): #assumes a .png file, change if not applicable\n",
    "        img = cv2.imread(filename)\n",
    "        name, ext = os.path.splitext(filename)\n",
    "        name = name.split('/')[1]\n",
    "            \n",
    "        h, w = img.shape[:2]\n",
    "        center = (w / 2, h / 2)\n",
    "\n",
    "        for i in ang:\n",
    "            angle = i\n",
    "            scale = 1\n",
    "\n",
    "            M = cv2.getRotationMatrix2D(center, angle, scale)\n",
    "            rotated = cv2.warpAffine(img, M, (w, h))\n",
    "\n",
    "            output = os.path.join(dir_out, f'{name}_{angle}{ext}')\n",
    "            cv2.imwrite(output, rotated)"
   ]
  },
  {
   "cell_type": "code",
   "execution_count": null,
   "metadata": {},
   "outputs": [],
   "source": []
  }
 ],
 "metadata": {
  "interpreter": {
   "hash": "fce1c7022bfe12e6241fab6e134680d8fdeb514a4f69a8524f2634ae3ff58bfb"
  },
  "kernelspec": {
   "display_name": "Python 3.9.8 ('.venv': venv)",
   "language": "python",
   "name": "python3"
  },
  "language_info": {
   "codemirror_mode": {
    "name": "ipython",
    "version": 3
   },
   "file_extension": ".py",
   "mimetype": "text/x-python",
   "name": "python",
   "nbconvert_exporter": "python",
   "pygments_lexer": "ipython3",
   "version": "3.9.8"
  }
 },
 "nbformat": 4,
 "nbformat_minor": 2
}
