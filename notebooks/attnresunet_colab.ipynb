{
 "cells": [
  {
   "cell_type": "code",
   "execution_count": null,
   "metadata": {
    "id": "TeVZzsjL6cqS"
   },
   "outputs": [],
   "source": [
    "!pip install segmentation_models --quiet\n",
    "!pip install boto3 --quiet\n",
    "!pip install mlflow --quiet"
   ]
  },
  {
   "cell_type": "code",
   "execution_count": null,
   "metadata": {
    "id": "3yvN7q53oX5v"
   },
   "outputs": [],
   "source": [
    "from google.colab import drive\n",
    "drive.mount('/content/drive')"
   ]
  },
  {
   "cell_type": "code",
   "execution_count": null,
   "metadata": {
    "id": "7UbVup1Q5k5j"
   },
   "outputs": [],
   "source": [
    "import os\n",
    "import sys\n",
    "sys.path.append('/content/drive/MyDrive/unet/')\n",
    "from datetime import datetime\n",
    "\n",
    "import boto3\n",
    "import mlflow\n",
    "import pandas as pd\n",
    "import segmentation_models as sm\n",
    "import tensorflow as tf\n",
    "from tensorflow.keras.callbacks import (BackupAndRestore, EarlyStopping,\n",
    "                                        ModelCheckpoint)\n",
    "from tensorflow.keras.optimizers import Adagrad, Adam\n",
    "\n",
    "from attresunet import Attention_ResUNet\n",
    "from train import trainGenerator"
   ]
  },
  {
   "cell_type": "code",
   "execution_count": null,
   "metadata": {
    "id": "NEiDUhYCX0YK"
   },
   "outputs": [],
   "source": [
    "gpu_info = !nvidia-smi\n",
    "gpu_info = '\\n'.join(gpu_info)\n",
    "if gpu_info.find('failed') >= 0:\n",
    "  print('Not connected to a GPU')\n",
    "else:\n",
    "  print(gpu_info)"
   ]
  },
  {
   "cell_type": "code",
   "execution_count": null,
   "metadata": {
    "id": "bPVs00S9loj1"
   },
   "outputs": [],
   "source": [
    "tf.version.VERSION"
   ]
  },
  {
   "cell_type": "code",
   "execution_count": null,
   "metadata": {
    "id": "K0XB7ow95k5v"
   },
   "outputs": [],
   "source": [
    "# load images and sort masks and images\n",
    "train_img_dir = '/content/drive/MyDrive/unet/data_train/train/images/train/'\n",
    "train_msk_dir = '/content/drive/MyDrive/unet/data_train/train/masks/train/'\n",
    "\n",
    "img_list = os.listdir(train_img_dir)\n",
    "img_list.sort()\n",
    "msk_list = os.listdir(train_msk_dir)\n",
    "msk_list.sort()\n",
    "num_images = len(os.listdir(train_img_dir))\n",
    "print(\"Total number of training images are: \", num_images)"
   ]
  },
  {
   "cell_type": "code",
   "execution_count": null,
   "metadata": {},
   "outputs": [],
   "source": [
    "# Define the model metrics\n",
    "seed = 69\n",
    "batch_size = 4\n",
    "n_classes = 4\n",
    "epochs = 50\n",
    "LR = 0.001\n",
    "\n",
    "# Learning Rate decay. questionable usefulness  with adam optimizer but here if we need it.\n",
    "decay = tf.keras.optimizers.schedules.ExponentialDecay(\n",
    "    LR, 1000, 0.96, staircase=True\n",
    ")\n",
    "\n",
    "# Optimizer\n",
    "optimizer = tf.keras.optimizers.Adam(LR)"
   ]
  },
  {
   "cell_type": "code",
   "execution_count": null,
   "metadata": {
    "id": "mLfcJ2Bi5k5x"
   },
   "outputs": [],
   "source": [
    "train_img_path = '/content/drive/MyDrive/unet/data_train/train/images/'\n",
    "train_msk_path = '/content/drive/MyDrive/unet/data_train/train/masks/'\n",
    "train_img_gen = trainGenerator(train_img_path, train_msk_path, num_class=4, batch_size=batch_size, seed=seed)\n",
    "\n",
    "x, y = train_img_gen.__next__()"
   ]
  },
  {
   "cell_type": "code",
   "execution_count": null,
   "metadata": {
    "id": "OZrNxTJ15k5y"
   },
   "outputs": [],
   "source": [
    "val_img_path = '/content/drive/MyDrive/unet/data_train/val/images/'\n",
    "val_msk_path = '/content/drive/MyDrive/unet/data_train/val/masks/'\n",
    "val_img_gen = trainGenerator(val_img_path, val_msk_path, num_class=4, batch_size=batch_size, seed=seed)\n",
    "\n",
    "x, y = val_img_gen.__next__()"
   ]
  },
  {
   "cell_type": "code",
   "execution_count": null,
   "metadata": {
    "id": "GiksKG9J5k5z"
   },
   "outputs": [],
   "source": [
    "#Define the model metrics and load model. \n",
    "num_train_images = len(os.listdir('/content/drive/MyDrive/unet/data_train/train/images/train'))\n",
    "num_val_images = len(os.listdir('/content/drive/MyDrive/unet/data_train/val/images/val'))\n",
    "steps_per_epoch = num_train_images//batch_size\n",
    "val_steps_per_epoch = num_val_images//batch_size\n",
    "\n",
    "IMG_HEIGHT = x.shape[1]\n",
    "IMG_WIDTH  = x.shape[2]\n",
    "IMG_CHANNELS = x.shape[3]\n",
    "input_shape = (IMG_HEIGHT, IMG_WIDTH, IMG_CHANNELS)\n",
    "\n",
    "print(f'Input shape: {input_shape}\\nTraining images: {num_train_images}\\nValidation images: {num_val_images}\\nSteps per epoch: {steps_per_epoch}\\nValidation steps per epoch: {val_steps_per_epoch}' )"
   ]
  },
  {
   "cell_type": "code",
   "execution_count": null,
   "metadata": {},
   "outputs": [],
   "source": [
    "# Segmentation models losses can be combined together by '+' and scaled by integer or float factor\n",
    "mean_iou = tensorflow.keras.metrics.MeanIoU(num_classes=n_classes)\n",
    "dice_loss = sm.losses.DiceLoss() \n",
    "focal_loss = sm.losses.CategoricalFocalLoss()\n",
    "total_loss = dice_loss + (1 * focal_loss)\n",
    "metrics = [sm.metrics.IOUScore(threshold=0.5), mean_iou, sm.metrics.FScore(threshold=0.5)]"
   ]
  },
  {
   "cell_type": "code",
   "execution_count": null,
   "metadata": {
    "id": "KpElpgWEqFX3"
   },
   "outputs": [],
   "source": [
    "# Model name for saving\n",
    "loss_name = 'diceplusfocal'\n",
    "# Model type for saving\n",
    "model_type = 'AttResUnet'\n",
    "#Model naming convention\n",
    "model_name = f'{model_type}_{loss_name}_epochs{epochs}_batchsize{batch_size}_learningrate{LR}'"
   ]
  },
  {
   "cell_type": "code",
   "execution_count": null,
   "metadata": {},
   "outputs": [],
   "source": [
    "# Build the model\n",
    "# Attention Residual Unet\n",
    "att_res_unet_model = Attention_ResUNet(input_shape)\n",
    "att_res_unet_model.compile(optimizer=optimizer,\n",
    "                           loss=total_loss,\n",
    "                           metrics=['accuracy', metrics])\n",
    "#print(att_res_unet_model.summary())"
   ]
  },
  {
   "cell_type": "code",
   "execution_count": null,
   "metadata": {
    "id": "tGxpC3-l4Z31"
   },
   "outputs": [],
   "source": [
    "# CALLBACKS\n",
    "# Define early stopping criteria\n",
    "early_stopping = EarlyStopping(monitor='val_iou_score', # Quantity to monitor\n",
    "                patience = 10, # Number of epochs with no improvement. 0 means the training is terminated as soon as the performance measure gets worse from one epoch to the next.\n",
    "                min_delta = 0.0001,  # Minimum change in the monitored quantity to qualify as an improvement, i.e. an absolute change of less than min_delta, will count as no improvement. \n",
    "                mode = 'max',\n",
    "                baseline = 0.5,\n",
    "                verbose = 1\n",
    ")\n",
    "\n",
    "model_checkpoint = ModelCheckpoint(\n",
    "    filepath = f'/content/drive/MyDrive/unet/checkpoints/{model_name}checkpoint.hdf5',\n",
    "    monitor='val_iou_score',\n",
    "    verbose=1,\n",
    "    save_best_only=True,\n",
    "    save_weights_only=False,\n",
    "    mode='max',\n",
    "    save_freq='epoch',\n",
    "    options=None,\n",
    "    initial_value_threshold=0.5\n",
    ")\n",
    "\n",
    "model_backup = BackupAndRestore(\n",
    "    backup_dir = '/content/drive/MyDrive/unet/backup'\n",
    ")"
   ]
  },
  {
   "cell_type": "code",
   "execution_count": null,
   "metadata": {
    "id": "im8zIvCYKlCm"
   },
   "outputs": [],
   "source": [
    "# ML_FLOW \n",
    "TRACKING_URI = open('/content/drive/MyDrive/unet/mlflow_uri.txt').read().strip()\n",
    "mlflow.set_tracking_uri(TRACKING_URI)\n",
    "\n",
    "# Set an experiment name, which must be unique and case-sensitive.\n",
    "experiment = mlflow.set_experiment('magic rocks!')\n",
    "\n",
    "# Set run name and start autolog\n",
    "mlflow.start_run(run_name=f'{model_name}')\n",
    "mlflow.tensorflow.autolog()\n",
    "\n",
    "# Get Experiment Details\n",
    "print(\"Experiment_id: {}\".format(experiment.experiment_id))\n",
    "print(\"Artifact Location: {}\".format(experiment.artifact_location))\n",
    "print(\"Name: {}\".format(experiment.name))\n",
    "print(\"Lifecycle_stage: {}\".format(experiment.lifecycle_stage))"
   ]
  },
  {
   "cell_type": "code",
   "execution_count": null,
   "metadata": {
    "id": "ow-PEajo5k50"
   },
   "outputs": [],
   "source": [
    "start = datetime.now() \n",
    "att_res_unet_history = att_res_unet_model.fit(train_img_gen,\n",
    "                    steps_per_epoch=steps_per_epoch,\n",
    "                    epochs=epochs,\n",
    "                    verbose=1,\n",
    "                    validation_data=val_img_gen,\n",
    "                    validation_steps=val_steps_per_epoch,\n",
    "                    callbacks = [model_checkpoint, model_backup])\n",
    "stop = datetime.now()\n",
    "\n",
    "# End mlflow run\n",
    "mlflow.end_run()"
   ]
  },
  {
   "cell_type": "code",
   "execution_count": null,
   "metadata": {
    "id": "qFCPJzgH5k50"
   },
   "outputs": [],
   "source": [
    "#Execution time of the model \n",
    "execution_time_AttResUnet = stop-start\n",
    "print(\"Attention ResUnet execution time is: \", execution_time_AttResUnet)"
   ]
  },
  {
   "cell_type": "code",
   "execution_count": null,
   "metadata": {
    "id": "m5tDJ4QWaDzq"
   },
   "outputs": [],
   "source": [
    "#Save the model\n",
    "att_res_unet_model.save(f'/content/drive/MyDrive/unet/{model_name}.hdf5')"
   ]
  },
  {
   "cell_type": "code",
   "execution_count": null,
   "metadata": {
    "id": "oD5HNoXZ5k50"
   },
   "outputs": [],
   "source": [
    "# convert the history.history dict to a pandas DataFrame and save as csv for\n",
    "# future plotting\n",
    "att_res_unet_history_df = pd.DataFrame(att_res_unet_history.history) \n",
    "\n",
    "with open('/content/drive/MyDrive/unet/custom_code_att_res_unet_history_df.csv', mode='w') as f:\n",
    "    att_res_unet_history_df.to_csv(f)"
   ]
  },
  {
   "cell_type": "code",
   "execution_count": null,
   "metadata": {
    "id": "lJp7dqer5k51"
   },
   "outputs": [],
   "source": [
    "#Check history plots, one model at a time\n",
    "history = att_res_unet_history\n",
    "\n",
    "#plot the training and validation accuracy and loss at each epoch\n",
    "loss = history.history['loss']\n",
    "val_loss = history.history['val_iou_score']\n",
    "epochs = range(1, len(loss) + 1)\n",
    "plt.plot(epochs, loss, 'y', label='Training loss')\n",
    "plt.plot(epochs, val_loss, 'r', label='Validation IOU Score')\n",
    "plt.title('Training and validation loss')\n",
    "plt.xlabel('Epochs')\n",
    "plt.ylabel('Loss')\n",
    "plt.legend()\n",
    "plt.show()"
   ]
  }
 ],
 "metadata": {
  "accelerator": "GPU",
  "colab": {
   "collapsed_sections": [],
   "name": "attnresunet_imgggen.ipynb",
   "private_outputs": true,
   "provenance": []
  },
  "interpreter": {
   "hash": "27bfc2e7f7c4c223eebafb71203e56e1caf76124c3948973e06b9c38250454df"
  },
  "kernelspec": {
   "display_name": "Python 3.9.8 ('.venv': venv)",
   "language": "python",
   "name": "python3"
  },
  "language_info": {
   "codemirror_mode": {
    "name": "ipython",
    "version": 3
   },
   "file_extension": ".py",
   "mimetype": "text/x-python",
   "name": "python",
   "nbconvert_exporter": "python",
   "pygments_lexer": "ipython3",
   "version": "3.9.8"
  }
 },
 "nbformat": 4,
 "nbformat_minor": 0
}
