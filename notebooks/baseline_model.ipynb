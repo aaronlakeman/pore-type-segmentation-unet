{
 "cells": [
  {
   "cell_type": "code",
   "execution_count": null,
   "metadata": {},
   "outputs": [],
   "source": [
    "import cv2\n",
    "import os\n",
    "import sys\n",
    "import random\n",
    "from matplotlib import pyplot as plt\n",
    "sys.path.append('../modeling')\n",
    "from baseline_model import baseline_model"
   ]
  },
  {
   "cell_type": "code",
   "execution_count": null,
   "metadata": {},
   "outputs": [],
   "source": [
    "corr_masks = \"../data/original_data/masks/\"\n",
    "uncorrected_masks = \"../data/uncorrected_data/\"\n",
    "\n",
    "img_list = os.listdir(corr_masks)\n",
    "img_list.sort()\n",
    "msk_list = os.listdir(uncorrected_masks)\n",
    "msk_list.sort()\n",
    "num_images = len(os.listdir(corr_masks))\n",
    "print(\"Total number of training images are: \", num_images)"
   ]
  },
  {
   "cell_type": "code",
   "execution_count": null,
   "metadata": {},
   "outputs": [],
   "source": [
    "img_num = random.randint(0, num_images-1)\n",
    "\n",
    "corr_image_for_plot = cv2.imread(corr_masks+img_list[img_num], 1)\n",
    "uncorr_image_for_plot =cv2.imread(uncorrected_masks+msk_list[img_num], 1)\n",
    "\n",
    "plt.figure(figsize=(12, 8))\n",
    "plt.subplot(121)\n",
    "plt.imshow(uncorr_image_for_plot)\n",
    "plt.title('Uncorrected Image')\n",
    "plt.subplot(122)\n",
    "plt.imshow(corr_image_for_plot)\n",
    "plt.title('Corrected Image')\n",
    "plt.show()"
   ]
  },
  {
   "cell_type": "code",
   "execution_count": null,
   "metadata": {},
   "outputs": [],
   "source": [
    "baseline_model(corr_masks, uncorrected_masks)"
   ]
  }
 ],
 "metadata": {
  "interpreter": {
   "hash": "fce1c7022bfe12e6241fab6e134680d8fdeb514a4f69a8524f2634ae3ff58bfb"
  },
  "kernelspec": {
   "display_name": "Python 3.9.8 ('.venv': venv)",
   "language": "python",
   "name": "python3"
  },
  "language_info": {
   "codemirror_mode": {
    "name": "ipython",
    "version": 3
   },
   "file_extension": ".py",
   "mimetype": "text/x-python",
   "name": "python",
   "nbconvert_exporter": "python",
   "pygments_lexer": "ipython3",
   "version": "3.9.8"
  }
 },
 "nbformat": 4,
 "nbformat_minor": 2
}
