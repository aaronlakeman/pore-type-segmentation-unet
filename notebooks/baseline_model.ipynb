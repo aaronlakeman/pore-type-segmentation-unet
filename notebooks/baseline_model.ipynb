{
 "cells": [
  {
   "cell_type": "code",
   "execution_count": null,
   "metadata": {},
   "outputs": [],
   "source": [
    "import cv2\n",
    "import os\n",
    "import sys\n",
    "import random\n",
    "from matplotlib import pyplot as plt\n",
    "import numpy as np\n",
    "sys.path.append('../modeling')\n",
    "from baseline_model import baseline_model\n",
    "from tensorflow.keras.utils import to_categorical"
   ]
  },
  {
   "cell_type": "code",
   "execution_count": null,
   "metadata": {},
   "outputs": [],
   "source": [
    "corr_masks = \"../data/original_data/masks/\"\n",
    "uncorrected_masks = \"../data/uncorrected_data/\"\n",
    "\n",
    "img_list = os.listdir(corr_masks)\n",
    "img_list.sort()\n",
    "msk_list = os.listdir(uncorrected_masks)\n",
    "msk_list.sort()\n",
    "num_images = len(os.listdir(corr_masks))\n",
    "print(\"Total number of training images are: \", num_images)"
   ]
  },
  {
   "cell_type": "code",
   "execution_count": null,
   "metadata": {},
   "outputs": [],
   "source": [
    "img_num = random.randint(0, num_images-1)\n",
    "\n",
    "corr_image_for_plot = cv2.imread(corr_masks+img_list[img_num], 1)\n",
    "uncorr_image_for_plot =cv2.imread(uncorrected_masks+msk_list[img_num], 1)\n",
    "\n",
    "plt.figure(figsize=(12, 8))\n",
    "plt.subplot(121)\n",
    "plt.imshow(uncorr_image_for_plot, cmap='gray')\n",
    "plt.title('Uncorrected Image')\n",
    "plt.subplot(122)\n",
    "plt.imshow(corr_image_for_plot, cmap='gray')\n",
    "plt.title('Corrected Image')\n",
    "plt.show()"
   ]
  },
  {
   "cell_type": "code",
   "execution_count": null,
   "metadata": {},
   "outputs": [],
   "source": [
    "baseline_model(corr_masks, uncorrected_masks)"
   ]
  },
  {
   "cell_type": "code",
   "execution_count": null,
   "metadata": {},
   "outputs": [],
   "source": [
    "def baseline_model(corr_masks, uncorrected_masks):\n",
    "    list = []\n",
    "    for correct in glob.glob(corr_masks + \"*.tif\"):\n",
    "        for uncorrect in glob.glob(uncorrected_masks + \"*.tif\"):\n",
    "            img_1 = cv2.imread(correct, 1)\n",
    "            img_2 = cv2.imread(uncorrect, 1)\n",
    "\n",
    "            res = cv2.absdiff(img_1, img_2)\n",
    "            res = res.astype(np.uint8)\n",
    "            percentage = np.round(100 - ((np.count_nonzero(res) * 100) / res.size), 2)\n",
    "            list.append(percentage)\n",
    "            print(f\"The mean accuracy is equal to {np.mean(list)}\")\n",
    "            print(f\"These are the accuracies of the individual images{list}\")"
   ]
  },
  {
   "cell_type": "markdown",
   "metadata": {},
   "source": [
    "### Baseline model for IoU"
   ]
  },
  {
   "cell_type": "code",
   "execution_count": null,
   "metadata": {},
   "outputs": [],
   "source": [
    "# We need the images as w,h,classes\n",
    "from sklearn.preprocessing import LabelEncoder\n",
    "labelencoder = LabelEncoder()\n",
    "h, w = corr_image_for_plot.shape  \n",
    "\n",
    "mask_for_plot_reshaped = corr_image_for_plot.reshape(-1,1)\n",
    "mask_for_plot_reshaped_encoded = labelencoder.fit_transform(mask_for_plot_reshaped)\n",
    "corr_images_encoded = mask_for_plot_reshaped_encoded.reshape(h, w)\n",
    "\n",
    "mask_for_plot_reshaped = uncorr_image_for_plot.reshape(-1,1)\n",
    "mask_for_plot_reshaped_encoded = labelencoder.fit_transform(mask_for_plot_reshaped)\n",
    "uncorr_images_encoded = mask_for_plot_reshaped_encoded.reshape(h, w)\n"
   ]
  },
  {
   "cell_type": "code",
   "execution_count": null,
   "metadata": {},
   "outputs": [],
   "source": [
    "corr_image_for_plot.shape"
   ]
  },
  {
   "cell_type": "code",
   "execution_count": null,
   "metadata": {},
   "outputs": [],
   "source": [
    "uncorr_images_encoded.shape"
   ]
  },
  {
   "cell_type": "code",
   "execution_count": null,
   "metadata": {},
   "outputs": [],
   "source": [
    "def preprocess_data(mask, num_class):\n",
    "    #Convert mask to one-hot\n",
    "    labelencoder = LabelEncoder()\n",
    "    h, w, c = mask.shape  \n",
    "    mask = mask.reshape(-1,1)\n",
    "    mask = labelencoder.fit_transform(mask)\n",
    "    mask = mask.reshape(h, w, c)\n",
    "    mask = to_categorical(mask, num_class)\n",
    "      \n",
    "    return (mask)"
   ]
  },
  {
   "cell_type": "code",
   "execution_count": null,
   "metadata": {},
   "outputs": [],
   "source": [
    "uncorr_images_encoded = preprocess_data(uncorr_image_for_plot, 4)"
   ]
  },
  {
   "cell_type": "code",
   "execution_count": null,
   "metadata": {},
   "outputs": [],
   "source": [
    "corr_images_encoded = preprocess_data(uncorr_image_for_plot, 3)"
   ]
  },
  {
   "cell_type": "code",
   "execution_count": null,
   "metadata": {},
   "outputs": [],
   "source": [
    "uncorr_images_encoded.shape"
   ]
  },
  {
   "cell_type": "code",
   "execution_count": null,
   "metadata": {},
   "outputs": [],
   "source": [
    "# one hot encoding of predictions\n",
    "#num_classes = y_pred.shape[-1]\n",
    "#y_pred = np.array([ np.argmax(y_pred, axis=-1)==i for i in range(num_classes) ]).transpose(1,2,3,0)\n",
    "\n",
    "axes = (0,1) # W,H axes of each image\n",
    "intersection = np.sum(np.logical_and(uncorr_images_encoded, corr_images_encoded), axis=axes)\n",
    "# intersection = np.sum(np.abs(y_pred * y_true), axis=axes)\n",
    "union = np.sum(np.logical_or(uncorr_images_encoded, corr_images_encoded), axis=axes)\n",
    "mask_sum = np.sum(np.abs(corr_images_encoded), axis=axes) + np.sum(np.abs(uncorr_images_encoded), axis=axes)\n",
    "# union = mask_sum  - intersection\n",
    "\n",
    "smooth = .001\n",
    "iou = (intersection + smooth) / (union + smooth)\n",
    "dice = 2 * (intersection + smooth)/(mask_sum + smooth)\n",
    "\n",
    "iou = np.mean(iou)\n",
    "dice = np.mean(dice)"
   ]
  },
  {
   "cell_type": "code",
   "execution_count": null,
   "metadata": {},
   "outputs": [],
   "source": [
    "dice"
   ]
  },
  {
   "cell_type": "code",
   "execution_count": null,
   "metadata": {},
   "outputs": [],
   "source": []
  }
 ],
 "metadata": {
  "interpreter": {
   "hash": "fce1c7022bfe12e6241fab6e134680d8fdeb514a4f69a8524f2634ae3ff58bfb"
  },
  "kernelspec": {
   "display_name": "Python 3.9.8 ('.venv': venv)",
   "language": "python",
   "name": "python3"
  },
  "language_info": {
   "codemirror_mode": {
    "name": "ipython",
    "version": 3
   },
   "file_extension": ".py",
   "mimetype": "text/x-python",
   "name": "python",
   "nbconvert_exporter": "python",
   "pygments_lexer": "ipython3",
   "version": "3.9.8"
  }
 },
 "nbformat": 4,
 "nbformat_minor": 2
}
