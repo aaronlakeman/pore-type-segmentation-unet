{
 "cells": [
  {
   "cell_type": "code",
   "execution_count": null,
   "metadata": {},
   "outputs": [],
   "source": [
    "import cv2\n",
    "import numpy as np\n",
    "import glob"
   ]
  },
  {
   "cell_type": "code",
   "execution_count": null,
   "metadata": {},
   "outputs": [],
   "source": [
    "corr_masks = \"../data/original_data/masks/\"\n",
    "uncorrected_masks = \"../data/uncorrected_data/\""
   ]
  },
  {
   "cell_type": "code",
   "execution_count": null,
   "metadata": {},
   "outputs": [],
   "source": [
    "def baseline_model(corr_masks, uncorrected_masks):\n",
    "    list = []\n",
    "    for correct in glob.glob(\n",
    "        corr_masks + \"*.tif\"\n",
    "    ):\n",
    "        for uncorrect in glob.glob(\n",
    "            uncorrected_masks + \"*.tif\"\n",
    "        ):\n",
    "            img_1 = cv2.imread(correct, 1)\n",
    "            img_2 = cv2.imread(uncorrect, 1)\n",
    "\n",
    "            res = cv2.absdiff(img_1, img_2)\n",
    "            res = res.astype(np.uint8)\n",
    "            percentage = np.round(100-((np.count_nonzero(res) * 100)/res.size), 2)\n",
    "            list.append(percentage)\n",
    "            print(f'the accuracy is equal to {np.mean(list)}')\n",
    "    return list\n"
   ]
  }
 ],
 "metadata": {
  "interpreter": {
   "hash": "fce1c7022bfe12e6241fab6e134680d8fdeb514a4f69a8524f2634ae3ff58bfb"
  },
  "kernelspec": {
   "display_name": "Python 3.9.8 ('.venv': venv)",
   "language": "python",
   "name": "python3"
  },
  "language_info": {
   "codemirror_mode": {
    "name": "ipython",
    "version": 3
   },
   "file_extension": ".py",
   "mimetype": "text/x-python",
   "name": "python",
   "nbconvert_exporter": "python",
   "pygments_lexer": "ipython3",
   "version": "3.9.8"
  }
 },
 "nbformat": 4,
 "nbformat_minor": 2
}
