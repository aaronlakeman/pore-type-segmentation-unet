{
 "cells": [
  {
   "cell_type": "code",
   "execution_count": null,
   "metadata": {},
   "outputs": [],
   "source": [
    "import os\n",
    "import glob\n",
    "import shutil"
   ]
  },
  {
   "cell_type": "code",
   "execution_count": null,
   "metadata": {},
   "outputs": [],
   "source": [
    "source_dir = '/Users/aaron/test/'\n",
    "target_dir = '/Users/aaron/target/'\n",
    "extensions = ['.tif','.shp', '.shx', '.dbf']\n",
    "\n",
    "image_dir = target_dir + 'image/'\n",
    "mask_dir = target_dir + 'mask/'"
   ]
  },
  {
   "cell_type": "code",
   "execution_count": null,
   "metadata": {},
   "outputs": [],
   "source": [
    "# Create folders for images and masks\n",
    "try:\n",
    "    os.mkdir(image_dir)\n",
    "    print(\"Directory \" , image_dir ,  \" Created \")\n",
    "except FileExistsError:\n",
    "    print(\"Directory \" , image_dir ,  \" already exists\")\n",
    "try:\n",
    "    os.mkdir(mask_dir)\n",
    "    print(\"Directory \" , mask_dir ,  \" Created \")\n",
    "except FileExistsError:\n",
    "    print(\"Directory \" , mask_dir ,  \" already exists\")"
   ]
  },
  {
   "cell_type": "code",
   "execution_count": null,
   "metadata": {},
   "outputs": [],
   "source": [
    "#counter=1\n",
    "\n",
    "for foldername, subfolders, filenames in os.walk(source_dir):\n",
    "    print('Searching files in %s...' % (foldername))\n",
    "    #counter+=1\n",
    "    for filename in filenames:\n",
    "        if filename.endswith('.tif'):\n",
    "            totalCopyPath = os.path.join(foldername, filename)\n",
    "            newName = os.path.join(image_dir, str(counter)+'.tif')\n",
    "            print(totalCopyPath)\n",
    "            print('Copying ' + filename + ' to ' + newName)\n",
    "            shutil.copy(totalCopyPath, image_dir)\n",
    "            #os.rename(image_dir+filename, newName)\n",
    "        elif filename.endswith(tuple(extensions)):\n",
    "            totalCopyPath = os.path.join(foldername, filename)\n",
    "            newName = os.path.join(mask_dir, str(counter))\n",
    "            print(newName)\n",
    "            print(totalCopyPath)\n",
    "            print('Copying ' + filename + ' to ' + newName)\n",
    "            shutil.copy(totalCopyPath, mask_dir)\n",
    "            #os.rename(mask_dir+filename, '1')\n",
    "print('Done.')"
   ]
  },
  {
   "cell_type": "code",
   "execution_count": null,
   "metadata": {},
   "outputs": [],
   "source": [
    "# Go through subfolders of source directory and copy every .tif file into 'target_dir/images/' folder\n",
    "counter=1\n",
    "for foldername, subfolders, filenames in os.walk(source_dir):\n",
    "    print('Searching files in %s...' % (foldername))\n",
    "    for filename in filenames:\n",
    "        if filename.endswith('.tif'):\n",
    "            totalCopyPath = os.path.join(foldername, filename)\n",
    "            newName = str(counter) +'.tif'\n",
    "            counter+=1\n",
    "            print('Copying ' + filename + ' to ' + newName)\n",
    "            shutil.copy(totalCopyPath, image_dir)\n",
    "print('Done.')"
   ]
  }
 ],
 "metadata": {
  "interpreter": {
   "hash": "27bfc2e7f7c4c223eebafb71203e56e1caf76124c3948973e06b9c38250454df"
  },
  "kernelspec": {
   "display_name": "Python 3.9.8 ('.venv': venv)",
   "language": "python",
   "name": "python3"
  },
  "language_info": {
   "codemirror_mode": {
    "name": "ipython",
    "version": 3
   },
   "file_extension": ".py",
   "mimetype": "text/x-python",
   "name": "python",
   "nbconvert_exporter": "python",
   "pygments_lexer": "ipython3",
   "version": "3.9.8"
  }
 },
 "nbformat": 4,
 "nbformat_minor": 2
}
