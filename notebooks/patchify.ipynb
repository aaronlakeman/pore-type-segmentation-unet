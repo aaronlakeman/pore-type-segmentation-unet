{
 "cells": [
  {
   "cell_type": "code",
   "execution_count": null,
   "metadata": {},
   "outputs": [],
   "source": [
    "import cv2\n",
    "from matplotlib import pyplot as plt\n",
    "from patchify import patchify, unpatchify"
   ]
  },
  {
   "cell_type": "markdown",
   "metadata": {},
   "source": [
    "### Image"
   ]
  },
  {
   "cell_type": "code",
   "execution_count": null,
   "metadata": {},
   "outputs": [],
   "source": [
    "# Read image\n",
    "large_image = cv2.imread('../data/original_data/image/image.tif', 0)\n",
    "patches = patchify(large_image, (512, 512), step=512)\n",
    "print(\"Large image shape is: \", large_image.shape)\n",
    "print(\"Patches array shape is: \", patches.shape)"
   ]
  },
  {
   "cell_type": "code",
   "execution_count": null,
   "metadata": {},
   "outputs": [],
   "source": [
    "for i in range(patches.shape[0]):\n",
    "    for j in range(patches.shape[1]):\n",
    "        single_patch_img = patches[i, j]\n",
    "        if not cv2.imwrite('../data/tiled_data/patched_images/' + 'image_' + '_'+ str(i)+'_'+str(j)+'.tif', single_patch_img):\n",
    "            raise Exception(\"Could not write the image\")"
   ]
  },
  {
   "cell_type": "code",
   "execution_count": null,
   "metadata": {},
   "outputs": [],
   "source": [
    "#plot image\n",
    "plt.figure(figsize=(15, 12))\n",
    "plt.imshow(large_image, cmap='gray')\n",
    "plt.figure(figsize=(15, 12))\n",
    "square = 13\n",
    "ix = 1\n",
    "\n",
    "#plot patches\n",
    "for i in range(square):\n",
    "\tfor j in range(square):\n",
    "\t\t# specify subplot and turn of axis\n",
    "\t\tax = plt.subplot(square, square, ix)\n",
    "\t\tax.set_xticks([])\n",
    "\t\tax.set_yticks([])\n",
    "\t\t# plot \n",
    "\t\tplt.imshow(patches[i, j, :, :], cmap='gray')\n",
    "\t\tix += 1\n",
    "\n",
    "plt.show()"
   ]
  },
  {
   "cell_type": "code",
   "execution_count": null,
   "metadata": {},
   "outputs": [],
   "source": [
    "# unpatchify\n",
    "reconstructed_image = unpatchify(patches, large_image.shape)\n",
    "assert (reconstructed_image == large_image).all()\n",
    "cv2.imwrite('../data/repatched.tif', reconstructed_image)"
   ]
  },
  {
   "cell_type": "markdown",
   "metadata": {},
   "source": [
    "### Mask"
   ]
  },
  {
   "cell_type": "code",
   "execution_count": null,
   "metadata": {},
   "outputs": [],
   "source": [
    "# Read image\n",
    "large_image = cv2.imread('../data/original_data/masks/mask.tif', 0)\n",
    "patches = patchify(large_image, (512, 512), step=512)\n",
    "print(\"Large image shape is: \", large_image.shape)\n",
    "print(\"Patches array shape is: \", patches.shape)"
   ]
  },
  {
   "cell_type": "code",
   "execution_count": null,
   "metadata": {},
   "outputs": [],
   "source": [
    "for i in range(patches.shape[0]):\n",
    "    for j in range(patches.shape[1]):\n",
    "        single_patch_img = patches[i, j]\n",
    "        if not cv2.imwrite('../data/tiled_data/patched_masks/' + 'image_' + '_' + str(i) + '_' + str(j) + '.tif', single_patch_img):\n",
    "            raise Exception(\"Could not write the image\")"
   ]
  },
  {
   "cell_type": "code",
   "execution_count": null,
   "metadata": {},
   "outputs": [],
   "source": [
    "#plot masks\n",
    "plt.figure(figsize=(8, 8))\n",
    "plt.imshow(large_image, cmap='gray')\n",
    "plt.figure(figsize=(8, 8))\n",
    "square = 13\n",
    "ix = 1\n",
    "\n",
    "#plot patches\n",
    "for i in range(square):\n",
    "\tfor j in range(square):\n",
    "\t\t# specify subplot and turn of axis\n",
    "\t\tax = plt.subplot(square, square, ix)\n",
    "\t\tax.set_xticks([])\n",
    "\t\tax.set_yticks([])\n",
    "\t\t# plot \n",
    "\t\tplt.imshow(patches[i, j, :, :], cmap='gray')\n",
    "\t\tix += 1\n",
    "\n",
    "plt.show()"
   ]
  }
 ],
 "metadata": {
  "interpreter": {
   "hash": "fce1c7022bfe12e6241fab6e134680d8fdeb514a4f69a8524f2634ae3ff58bfb"
  },
  "kernelspec": {
   "display_name": "Python 3.9.8 ('.venv': venv)",
   "language": "python",
   "name": "python3"
  },
  "language_info": {
   "codemirror_mode": {
    "name": "ipython",
    "version": 3
   },
   "file_extension": ".py",
   "mimetype": "text/x-python",
   "name": "python",
   "nbconvert_exporter": "python",
   "pygments_lexer": "ipython3",
   "version": "3.9.8"
  }
 },
 "nbformat": 4,
 "nbformat_minor": 2
}
