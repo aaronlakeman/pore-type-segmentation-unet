{
 "cells": [
  {
   "cell_type": "markdown",
   "metadata": {},
   "source": [
    "# Prediction notebook\n",
    "\n",
    "----------------------\n",
    "This notebook allows for predictions on large images. It includes the tiling of those images either without smooth blending or with smooth blending\n",
    "\n",
    "To do for later use:\n",
    "\n",
    "- Smooth blending only works on very small images. Why? Can we improve?\n",
    "- The predict function does currently not work with pretrained versions of the model\n",
    "- Rewrite so that it automatically predicts on all images\n",
    "- Second plot to also compare with mask "
   ]
  },
  {
   "cell_type": "code",
   "execution_count": null,
   "metadata": {},
   "outputs": [],
   "source": [
    "from patchify import patchify, unpatchify\n",
    "import cv2\n",
    "import numpy as np\n",
    "from matplotlib import pyplot as plt\n",
    "from keras.models import load_model\n",
    "import os\n",
    "import random\n",
    "from keras.metrics import MeanIoU"
   ]
  },
  {
   "cell_type": "code",
   "execution_count": null,
   "metadata": {},
   "outputs": [],
   "source": [
    "#Load model\n",
    "model = load_model('../models/StdUnet_diceplusfocal_epochs100_batchsize8_learningrate0.001.hdf5', compile=False)"
   ]
  },
  {
   "cell_type": "code",
   "execution_count": null,
   "metadata": {},
   "outputs": [],
   "source": [
    "#Load all test images and masks\n",
    "test_img_dir = '../data/data_original/test_data/image/'\n",
    "test_msk_dir = '../data/data_original/test_data/mask/'\n",
    "\n",
    "img_list = os.listdir(test_img_dir)\n",
    "img_list.sort()\n",
    "msk_list = os.listdir(test_msk_dir)\n",
    "msk_list.sort()\n",
    "num_images = len(os.listdir(test_img_dir))"
   ]
  },
  {
   "cell_type": "markdown",
   "metadata": {},
   "source": [
    "#### Test on a single image"
   ]
  },
  {
   "cell_type": "code",
   "execution_count": null,
   "metadata": {},
   "outputs": [],
   "source": [
    "# Load one random quarter for fast testing\n",
    "img_num = random.randint(0, num_images-1)\n",
    "img_for_test = cv2.imread(test_img_dir+img_list[img_num], 0)\n",
    "mask_for_test =cv2.imread(test_msk_dir+msk_list[img_num], 0)"
   ]
  },
  {
   "cell_type": "code",
   "execution_count": null,
   "metadata": {},
   "outputs": [],
   "source": [
    "#This will split the image into small images of shape [x,y]\n",
    "patches = patchify(img_for_test, (512, 512), step=512) \n",
    "print(\"Large image shape is: \", img_for_test.shape)\n",
    "print(\"Patches array shape is: \", patches.shape)"
   ]
  },
  {
   "cell_type": "code",
   "execution_count": null,
   "metadata": {},
   "outputs": [],
   "source": [
    "patches_mask = patchify(mask_for_test, (512, 512), step=512) \n",
    "print(\"Large image shape is: \", img_for_test.shape)\n",
    "print(\"Patches array shape is: \", patches.shape)"
   ]
  },
  {
   "cell_type": "code",
   "execution_count": null,
   "metadata": {},
   "outputs": [],
   "source": [
    "plt.figure(figsize=(9, 9))\n",
    "square = 6\n",
    "ix = 1\n",
    "for i in range(square):\n",
    "\tfor j in range(square):\n",
    "\t\t# specify subplot and turn of axis\n",
    "\t\tax = plt.subplot(square, square, ix)\n",
    "\t\tax.set_xticks([])\n",
    "\t\tax.set_yticks([])\n",
    "\t\t# plot \n",
    "\t\tplt.imshow(patches[i, j, :, :], cmap='gray')\n",
    "\t\tix += 1\n",
    "# show the figure\n",
    "plt.show()"
   ]
  },
  {
   "cell_type": "code",
   "execution_count": null,
   "metadata": {},
   "outputs": [],
   "source": [
    "def dice_metric(y_pred, y_true):\n",
    "    intersection = K.sum(K.sum(K.abs(y_true * y_pred), axis=-1))\n",
    "    union = K.sum(K.sum(K.abs(y_true) + K.abs(y_pred), axis=-1))\n",
    "    # if y_pred.sum() == 0 and y_pred.sum() == 0:\n",
    "    #     return 1.0\n",
    "\n",
    "    return 2*intersection / union"
   ]
  },
  {
   "cell_type": "code",
   "execution_count": null,
   "metadata": {},
   "outputs": [],
   "source": [
    "# Make predictions and save predictions\n",
    "\n",
    "predicted_patches = []\n",
    "mask_patches = []\n",
    "\n",
    "pred_patches = []\n",
    "true_patches = []\n",
    "\n",
    "for i in range(patches.shape[0]):\n",
    "    for j in range(patches.shape[1]):\n",
    "        print(i)\n",
    "        single_patch = patches[i,j,:,:]\n",
    "        single_mask = patches_mask[i,j,:,:]\n",
    "        \n",
    "        single_patch = single_patch / 255.\n",
    "        single_mask = single_mask / 255.\n",
    "\n",
    "        single_patch = np.expand_dims(np.array(single_patch), axis=2)\n",
    "        single_mask = np.expand_dims(np.array(single_mask), axis=2)\n",
    "        \n",
    "        single_patch_input=np.expand_dims(single_patch, 0)\n",
    "        single_mask_input=np.expand_dims(single_mask, 0)\n",
    "\n",
    "        single_patch_prediction = (model.predict(single_patch_input))\n",
    "\n",
    "        single_patch_predicted_img=np.argmax(single_patch_prediction, axis=3)[0,:,:]\n",
    "        single_mask_predict = np.argmax(single_mask_input, axis=3)[0,:,:]\n",
    "\n",
    "        predicted_patches.append(single_patch_predicted_img)\n",
    "        mask_patches.append(single_mask_predict)\n",
    "\n",
    "        #flatten the predict and the true mask\n",
    "        pred = single_patch_predicted_img.flatten()\n",
    "        true = single_mask_predict.flatten()\n",
    "\n",
    "        pred_patches.append(pred)\n",
    "        true_patches.append(true)\n"
   ]
  },
  {
   "cell_type": "code",
   "execution_count": null,
   "metadata": {},
   "outputs": [],
   "source": [
    "mean_IoU = []\n",
    "class_1_IoU = []\n",
    "class_2_IoU = []\n",
    "class_3_IoU = []\n",
    "class_4_IoU = []\n",
    "\n",
    "\n",
    "\n",
    "\n",
    "\n",
    "for k in range(len(pred)):\n",
    "    #instantiate true-false classes\n",
    "    c1_true = 0\n",
    "    c1_false = 0\n",
    "    c2_true = 0\n",
    "    c2_false = 0\n",
    "    c3_true = 0\n",
    "    c3_false = 0\n",
    "    c4_true = 0\n",
    "    c4_false = 0\n",
    "\n",
    "    all_true = 0\n",
    "    all_false = 0\n",
    "    # Class 1 (background)\n",
    "    if true[k] == 0:\n",
    "        if pred[k] == 0:\n",
    "            all_true+=1\n",
    "            c1_true+=1\n",
    "        else:\n",
    "            all_false+=1\n",
    "            c1_false+=1\n",
    "    # Class 2 (fractures)\n",
    "    elif true[k] == 1:\n",
    "        if pred[k] == 1:\n",
    "            all_true+=1\n",
    "            c2_true+=1\n",
    "        else:\n",
    "            all_false+=1\n",
    "            c2_false+=1\n",
    "    # Class 3 (pore)\n",
    "    elif true[k] == 2:\n",
    "        if pred[k] == 2:\n",
    "            all_true+=1\n",
    "            c3_true+=1\n",
    "        else:\n",
    "            all_false+=1\n",
    "            c3_false+=1\n",
    "    else:\n",
    "        if pred[k] == 3:\n",
    "            all_true+=1\n",
    "            c4_true+=1\n",
    "        else:\n",
    "            all_false+=1\n",
    "            c4_false+=1\n",
    "\n",
    "mean_IoU.append(all_true/(all_true+all_false))\n",
    "\n",
    "#------------------------------------------------------#\n"
   ]
  },
  {
   "cell_type": "code",
   "execution_count": null,
   "metadata": {},
   "outputs": [],
   "source": [
    "# can be added to the end of the above function, works kinda but not really\n",
    "IOU_keras = MeanIoU(num_classes=n_classes)  \n",
    "IOU_keras.update_state(single_mask_predict, single_patch_predicted_img)\n",
    "mean_IoU.append(IOU_keras.result().numpy())\n",
    "########\n",
    "predicted_patches.append(single_patch_predicted_img)\n",
    "mask_patches.append(single_mask_predict)\n",
    "\n",
    "values = np.array(IOU_keras.get_weights()).reshape(n_classes, n_classes)\n",
    "class1_IoU = values[0,0]/(values[0,0] + values[0,1] + values[0,2] + values[0,3] + values[1,0]+ values[2,0]+ values[3,0])\n",
    "class2_IoU = values[1,1]/(values[1,1] + values[1,0] + values[1,2] + values[1,3] + values[0,1]+ values[2,1]+ values[3,1])\n",
    "class3_IoU = values[2,2]/(values[2,2] + values[2,0] + values[2,1] + values[2,3] + values[0,2]+ values[1,2]+ values[3,2])\n",
    "class4_IoU = values[3,3]/(values[3,3] + values[3,0] + values[3,1] + values[3,2] + values[0,3]+ values[1,3]+ values[2,3])\n",
    "\n",
    "class_1.append(class1_IoU)\n",
    "class_2.append(class2_IoU)\n",
    "class_3.append(class3_IoU)\n",
    "class_4.append(class4_IoU)"
   ]
  },
  {
   "cell_type": "code",
   "execution_count": null,
   "metadata": {},
   "outputs": [],
   "source": [
    "predicted_patches = np.array(predicted_patches)\n",
    "predicted_patches_reshaped = np.reshape(predicted_patches, (patches.shape[0], patches.shape[1], 512,512)) #Replace with patch size\n",
    "\n",
    "masks = np.array(mask_patches)\n",
    "mask_reshaped = np.reshape(masks, (patches.shape[0], patches.shape[1], 512,512))"
   ]
  },
  {
   "cell_type": "code",
   "execution_count": null,
   "metadata": {},
   "outputs": [],
   "source": [
    "plt.figure(figsize=(9, 9))\n",
    "square_1 = 6\n",
    "square_2 = 8\n",
    "ix = 1\n",
    "for i in range(square_1):\n",
    "\tfor j in range(square_2):\n",
    "\t\t# specify subplot and turn of axis\n",
    "\t\tax = plt.subplot(square_1, square_2, ix)\n",
    "\t\tax.set_xticks([])\n",
    "\t\tax.set_yticks([])\n",
    "\t\t# plot \n",
    "\t\tplt.imshow(predicted_patches_reshaped[i, j, :, :], cmap='gray')\n",
    "\t\tix += 1\n",
    "# show the figure\n",
    "plt.show()"
   ]
  },
  {
   "cell_type": "code",
   "execution_count": null,
   "metadata": {},
   "outputs": [],
   "source": [
    "reconstructed_image = unpatchify(predicted_patches_reshaped, (3072, 4096))\n",
    "reconstructed_mask = unpatchify(mask_reshaped, (3072, 4096))"
   ]
  },
  {
   "cell_type": "code",
   "execution_count": null,
   "metadata": {},
   "outputs": [],
   "source": [
    "plt.figure(figsize=(20, 20))\n",
    "plt.subplot(221)\n",
    "plt.title('Original Image')\n",
    "plt.imshow(img_for_test, cmap='gray')\n",
    "plt.subplot(222)\n",
    "plt.title('Prediction')\n",
    "plt.imshow(reconstructed_image, cmap = 'gray')\n",
    "plt.show()"
   ]
  },
  {
   "cell_type": "code",
   "execution_count": null,
   "metadata": {},
   "outputs": [],
   "source": [
    "plt.figure(figsize=(20, 20))\n",
    "plt.subplot(221)\n",
    "plt.title('Original Mask')\n",
    "plt.imshow(mask_for_test, cmap='gray')\n",
    "plt.subplot(222)\n",
    "plt.title('Prediction')\n",
    "plt.imshow(reconstructed_image, cmap = 'gray')\n",
    "plt.show()"
   ]
  },
  {
   "cell_type": "markdown",
   "metadata": {},
   "source": [
    "### Predictions with IoU"
   ]
  },
  {
   "cell_type": "code",
   "execution_count": null,
   "metadata": {},
   "outputs": [],
   "source": [
    "IOU_keras = MeanIoU(num_classes=n_classes)  \n",
    "IOU_keras.update_state(reconstructed_mask, reconstructed_image)\n",
    "print(\"Mean IoU =\", IOU_keras.result().numpy())"
   ]
  },
  {
   "cell_type": "code",
   "execution_count": null,
   "metadata": {},
   "outputs": [],
   "source": [
    "#To calculate I0U for each class...\n",
    "values = np.array(IOU_keras.get_weights()).reshape(n_classes, n_classes)\n",
    "print(values)\n",
    "class1_IoU = values[0,0]/(values[0,0] + values[0,1] + values[0,2] + values[0,3] + values[1,0]+ values[2,0]+ values[3,0])\n",
    "class2_IoU = values[1,1]/(values[1,1] + values[1,0] + values[1,2] + values[1,3] + values[0,1]+ values[2,1]+ values[3,1])\n",
    "class3_IoU = values[2,2]/(values[2,2] + values[2,0] + values[2,1] + values[2,3] + values[0,2]+ values[1,2]+ values[3,2])\n",
    "class4_IoU = values[3,3]/(values[3,3] + values[3,0] + values[3,1] + values[3,2] + values[0,3]+ values[1,3]+ values[2,3])\n",
    "\n",
    "print(\"IoU for class1 is: \", class1_IoU)\n",
    "print(\"IoU for class2 is: \", class2_IoU)\n",
    "print(\"IoU for class3 is: \", class3_IoU)\n",
    "print(\"IoU for class4 is: \", class4_IoU)"
   ]
  },
  {
   "cell_type": "markdown",
   "metadata": {},
   "source": [
    "### Predict on large image -- Baustelle"
   ]
  },
  {
   "cell_type": "code",
   "execution_count": null,
   "metadata": {},
   "outputs": [],
   "source": [
    "large_image_scaled = img_for_test /255.\n",
    "large_image_scaled = np.expand_dims(large_image_scaled, axis=2)\n",
    "\n",
    "large_image_scaled.shape\n"
   ]
  },
  {
   "cell_type": "code",
   "execution_count": null,
   "metadata": {},
   "outputs": [],
   "source": [
    "scale_percent = 10 # percent of original size\n",
    "width = int(large_image_scaled.shape[1] * scale_percent / 100)\n",
    "height = int(large_image_scaled.shape[0] * scale_percent / 100)\n",
    "dim = (width, height)"
   ]
  },
  {
   "cell_type": "code",
   "execution_count": null,
   "metadata": {},
   "outputs": [],
   "source": [
    "smaller_image = cv2.resize(large_image_scaled, dim, interpolation=cv2.INTER_AREA)"
   ]
  },
  {
   "cell_type": "code",
   "execution_count": null,
   "metadata": {},
   "outputs": [],
   "source": [
    "smaller_image.shape"
   ]
  },
  {
   "cell_type": "code",
   "execution_count": null,
   "metadata": {},
   "outputs": [],
   "source": [
    "patch_size=512\n",
    "n_classes=4"
   ]
  },
  {
   "cell_type": "code",
   "execution_count": null,
   "metadata": {},
   "outputs": [],
   "source": [
    "# Use the algorithm. The `pred_func` is passed and will process all the image 8-fold by tiling small patches with overlap, called once with all those image as a batch outer dimension.\n",
    "# Note that model.predict(...) accepts a 4D tensor of shape (batch, x, y, nb_channels), such as a Keras model.\n",
    "from smooth_tiled_pred import predict_img_with_smooth_windowing\n",
    "\n",
    "predictions_smooth = predict_img_with_smooth_windowing(\n",
    "    large_image_scaled,    #Must be of shape (x, y, c) --> NOT of the shape (n, x, y, c)\n",
    "    window_size=patch_size,\n",
    "    subdivisions=2,  # Minimal amount of overlap for windowing. Must be an even number.\n",
    "    nb_classes=n_classes,\n",
    "    pred_func=(\n",
    "        lambda img_batch_subdiv: model.predict((img_batch_subdiv))\n",
    "    )\n",
    ")"
   ]
  },
  {
   "cell_type": "code",
   "execution_count": null,
   "metadata": {},
   "outputs": [],
   "source": [
    "final_prediction = np.argmax(predictions_smooth, axis=2)"
   ]
  },
  {
   "cell_type": "code",
   "execution_count": null,
   "metadata": {},
   "outputs": [],
   "source": [
    "plt.figure(figsize=(20, 10))\n",
    "plt.subplot(131)\n",
    "plt.title('Testing Image')\n",
    "plt.imshow(img_for_test, cmap='gray')\n",
    "plt.subplot(132)\n",
    "plt.title('Prediction without smooth blending')\n",
    "plt.imshow(reconstructed_image)\n",
    "plt.subplot(133)\n",
    "plt.title('Prediction with smooth blending')\n",
    "plt.imshow(final_prediction)\n",
    "plt.show()"
   ]
  }
 ],
 "metadata": {
  "kernelspec": {
   "display_name": "Python 3.9.8 ('.venv': venv)",
   "language": "python",
   "name": "python3"
  },
  "language_info": {
   "codemirror_mode": {
    "name": "ipython",
    "version": 3
   },
   "file_extension": ".py",
   "mimetype": "text/x-python",
   "name": "python",
   "nbconvert_exporter": "python",
   "pygments_lexer": "ipython3",
   "version": "3.9.8"
  },
  "vscode": {
   "interpreter": {
    "hash": "fce1c7022bfe12e6241fab6e134680d8fdeb514a4f69a8524f2634ae3ff58bfb"
   }
  }
 },
 "nbformat": 4,
 "nbformat_minor": 2
}
