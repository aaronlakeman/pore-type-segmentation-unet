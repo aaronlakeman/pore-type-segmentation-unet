{
 "cells": [
  {
   "cell_type": "markdown",
   "metadata": {},
   "source": [
    "# Prediction notebook\n",
    "\n",
    "----------------------\n",
    "This notebook allows for predictions on large images. It includes the tiling of those images either without smooth blending or with smooth blending\n",
    "\n",
    "To do for later use:\n",
    "\n",
    "- Test which of the two procedures produces better results\n",
    "- Replace folders at appropriate points\n",
    "- Rewrite the chosen prediction into a function"
   ]
  },
  {
   "cell_type": "code",
   "execution_count": null,
   "metadata": {},
   "outputs": [],
   "source": [
    "\n",
    "from patchify import patchify, unpatchify\n",
    "import cv2\n",
    "import numpy as np\n",
    "from matplotlib import pyplot as plt\n",
    "from smooth_tiled_predictions import predict_img_with_smooth_windowing"
   ]
  },
  {
   "cell_type": "code",
   "execution_count": null,
   "metadata": {},
   "outputs": [],
   "source": [
    "#Predict on large image\n",
    "large_image = cv2.imread('/content/drive/MyDrive/Colab Notebooks/data/sandstone/large_images/large_image.tif', 0)\n",
    "#This will split the image into small images of shape [3,3]\n",
    "patches = patchify(large_image, (128, 128), step=128)  #Step=256 for 256 patches means no overlap\n",
    "print(\"Large image shape is: \", large_image.shape)\n",
    "print(\"Patches array shape is: \", patches.shape)"
   ]
  },
  {
   "cell_type": "code",
   "execution_count": null,
   "metadata": {},
   "outputs": [],
   "source": [
    "plt.figure(figsize=(9, 9))\n",
    "plt.imshow(large_image, cmap='gray')"
   ]
  },
  {
   "cell_type": "code",
   "execution_count": null,
   "metadata": {},
   "outputs": [],
   "source": [
    "plt.figure(figsize=(9, 9))\n",
    "square = 6\n",
    "ix = 1\n",
    "for i in range(square):\n",
    "\tfor j in range(square):\n",
    "\t\t# specify subplot and turn of axis\n",
    "\t\tax = plt.subplot(square, square, ix)\n",
    "\t\tax.set_xticks([])\n",
    "\t\tax.set_yticks([])\n",
    "\t\t# plot \n",
    "\t\tplt.imshow(patches[i, j, :, :], cmap='gray')\n",
    "\t\tix += 1\n",
    "# show the figure\n",
    "plt.show()"
   ]
  },
  {
   "cell_type": "code",
   "execution_count": null,
   "metadata": {},
   "outputs": [],
   "source": [
    "#Load previously saved model\n",
    "from keras.models import load_model\n",
    "model = load_model(\"/content/drive/MyDrive/Colab Notebooks/saved_models/tutorial119_sandstone_50epochs.hdf5\", compile=False)"
   ]
  },
  {
   "cell_type": "code",
   "execution_count": null,
   "metadata": {},
   "outputs": [],
   "source": [
    "predicted_patches = []\n",
    "for i in range(patches.shape[0]):\n",
    "    for j in range(patches.shape[1]):\n",
    "        print(\"Now predicting on patch\", i,j)\n",
    "        \n",
    "        single_patch = patches[i,j,:,:]  \n",
    "        single_patch = single_patch / 255.  \n",
    "\n",
    "        single_patch = np.expand_dims(np.array(single_patch), axis=2)\n",
    "        single_patch_input=np.expand_dims(single_patch, 0)\n",
    "        single_patch_prediction = (model.predict(single_patch_input))\n",
    "        single_patch_predicted_img=np.argmax(single_patch_prediction, axis=3)[0,:,:]\n",
    "\n",
    "        predicted_patches.append(single_patch_predicted_img)\n",
    "\n",
    "predicted_patches = np.array(predicted_patches)\n",
    "\n",
    "predicted_patches_reshaped = np.reshape(predicted_patches, (patches.shape[0], patches.shape[1], 128,128) )"
   ]
  },
  {
   "cell_type": "code",
   "execution_count": null,
   "metadata": {},
   "outputs": [],
   "source": [
    "predicted_patches_reshaped.shape"
   ]
  },
  {
   "cell_type": "code",
   "execution_count": null,
   "metadata": {},
   "outputs": [],
   "source": [
    "plt.figure(figsize=(9, 9))\n",
    "square = 6\n",
    "ix = 1\n",
    "for i in range(square):\n",
    "\tfor j in range(square):\n",
    "\t\t# specify subplot and turn of axis\n",
    "\t\tax = plt.subplot(square, square, ix)\n",
    "\t\tax.set_xticks([])\n",
    "\t\tax.set_yticks([])\n",
    "\t\t# plot \n",
    "\t\tplt.imshow(predicted_patches_reshaped[i, j, :, :])\n",
    "\t\tix += 1\n",
    "# show the figure\n",
    "plt.show()"
   ]
  },
  {
   "cell_type": "code",
   "execution_count": null,
   "metadata": {},
   "outputs": [],
   "source": [
    "reconstructed_image = unpatchify(predicted_patches_reshaped, large_image.shape)"
   ]
  },
  {
   "cell_type": "code",
   "execution_count": null,
   "metadata": {},
   "outputs": [],
   "source": [
    "plt.figure(figsize=(12, 12))\n",
    "plt.subplot(221)\n",
    "plt.title('Large Image')\n",
    "plt.imshow(large_image, cmap='gray')\n",
    "plt.subplot(222)\n",
    "plt.title('Prediction of large Image')\n",
    "plt.imshow(reconstructed_image)\n",
    "plt.show()"
   ]
  },
  {
   "cell_type": "code",
   "execution_count": null,
   "metadata": {},
   "outputs": [],
   "source": [
    "#Predict on large image\n",
    "large_image = cv2.imread('/content/drive/MyDrive/Colab Notebooks/data/sandstone/large_images/large_image.tif', 0)\n",
    "large_image_scaled = large_image /255.\n",
    "large_image_scaled = np.expand_dims(large_image_scaled, axis=2)"
   ]
  },
  {
   "cell_type": "code",
   "execution_count": null,
   "metadata": {},
   "outputs": [],
   "source": [
    "print(large_image_scaled.shape)"
   ]
  },
  {
   "cell_type": "code",
   "execution_count": null,
   "metadata": {},
   "outputs": [],
   "source": [
    "patch_size=128\n",
    "n_classes=4"
   ]
  },
  {
   "cell_type": "code",
   "execution_count": null,
   "metadata": {},
   "outputs": [],
   "source": [
    "#Load previously saved model\n",
    "from keras.models import load_model\n",
    "model = load_model(\"/content/drive/MyDrive/Colab Notebooks/saved_models/tutorial119_sandstone_50epochs.hdf5\", compile=False)"
   ]
  },
  {
   "cell_type": "code",
   "execution_count": null,
   "metadata": {},
   "outputs": [],
   "source": [
    "# Use the algorithm. The `pred_func` is passed and will process all the image 8-fold by tiling small patches with overlap, called once with all those image as a batch outer dimension.\n",
    "# Note that model.predict(...) accepts a 4D tensor of shape (batch, x, y, nb_channels), such as a Keras model.\n",
    "predictions_smooth = predict_img_with_smooth_windowing(\n",
    "    large_image_scaled,    #Must be of shape (x, y, c) --> NOT of the shape (n, x, y, c)\n",
    "    window_size=patch_size,\n",
    "    subdivisions=2,  # Minimal amount of overlap for windowing. Must be an even number.\n",
    "    nb_classes=n_classes,\n",
    "    pred_func=(\n",
    "        lambda img_batch_subdiv: model.predict((img_batch_subdiv))\n",
    "    )\n",
    ")"
   ]
  },
  {
   "cell_type": "code",
   "execution_count": null,
   "metadata": {},
   "outputs": [],
   "source": [
    "print(predictions_smooth.shape)"
   ]
  },
  {
   "cell_type": "code",
   "execution_count": null,
   "metadata": {},
   "outputs": [],
   "source": [
    "final_prediction = np.argmax(predictions_smooth, axis=2)"
   ]
  },
  {
   "cell_type": "code",
   "execution_count": null,
   "metadata": {},
   "outputs": [],
   "source": [
    "plt.figure(figsize=(20, 10))\n",
    "plt.subplot(131)\n",
    "plt.title('Testing Image')\n",
    "plt.imshow(large_image, cmap='gray')\n",
    "plt.subplot(132)\n",
    "plt.title('Prediction without smooth blending')\n",
    "plt.imshow(reconstructed_image)\n",
    "plt.subplot(133)\n",
    "plt.title('Prediction with smooth blending')\n",
    "plt.imshow(final_prediction)\n",
    "plt.show()"
   ]
  }
 ],
 "metadata": {
  "language_info": {
   "name": "python"
  }
 },
 "nbformat": 4,
 "nbformat_minor": 2
}
