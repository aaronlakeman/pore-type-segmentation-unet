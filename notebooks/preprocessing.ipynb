{
 "cells": [
  {
   "cell_type": "markdown",
   "metadata": {},
   "source": [
    "Directories"
   ]
  },
  {
   "cell_type": "code",
   "execution_count": null,
   "metadata": {},
   "outputs": [],
   "source": [
    "import os\n",
    "\n",
    "def folder_structure(target_dir='../data/'):\n",
    "    \"\"\"Generates folder structure\n",
    "\n",
    "    Args:\n",
    "        target_dir (str, optional): The data directory path relative to the directory you run this function from. Defaults to '../data/'.\n",
    "    \"\"\"\n",
    "\n",
    "    dir_lst = ['data_original', 'data_temp']\n",
    "    subdir_lst = ['images/','masks/']\n",
    "    parent_dir = os.getcwd()\n",
    "\n",
    "    # make main directories\n",
    "    for dir in dir_lst:\n",
    "        for subdir in subdir_lst:\n",
    "            os.makedirs(os.path.join(parent_dir, target_dir, dir, subdir), exist_ok=True)\n",
    "        \n",
    "    # make subdirectories\n",
    "    for i in ['train','val','test']:\n",
    "        for subdir in subdir_lst:\n",
    "            os.makedirs(os.path.join(parent_dir, target_dir+'data_train', i+'_'+subdir+i), exist_ok=True)\n",
    "    return"
   ]
  },
  {
   "cell_type": "markdown",
   "metadata": {},
   "source": [
    "Copy images and masks to folders"
   ]
  },
  {
   "cell_type": "code",
   "execution_count": null,
   "metadata": {},
   "outputs": [],
   "source": [
    "source_dir = '/Users/aaron/test/'\n",
    "target_dir = '/Users/aaron/target/'\n",
    "extensions = ['.tif','.shp', '.shx', '.dbf']\n",
    "\n",
    "image_dir = target_dir + 'image/'\n",
    "mask_dir = target_dir + 'mask/'\n",
    "\n",
    "for foldername, subfolders, filenames in os.walk(source_dir):\n",
    "    print('Searching files in %s...' % (foldername))\n",
    "    #counter+=1\n",
    "    for filename in filenames:\n",
    "        if filename.endswith('.tif'):\n",
    "            totalCopyPath = os.path.join(foldername, filename)\n",
    "            newName = os.path.join(image_dir, str(counter)+'.tif')\n",
    "            print(totalCopyPath)\n",
    "            print('Copying ' + filename + ' to ' + newName)\n",
    "            shutil.copy(totalCopyPath, image_dir)\n",
    "            #os.rename(image_dir+filename, newName)\n",
    "        elif filename.endswith(tuple(extensions)):\n",
    "            totalCopyPath = os.path.join(foldername, filename)\n",
    "            newName = os.path.join(mask_dir, str(counter))\n",
    "            print(newName)\n",
    "            print(totalCopyPath)\n",
    "            print('Copying ' + filename + ' to ' + newName)\n",
    "            shutil.copy(totalCopyPath, mask_dir)\n",
    "            #os.rename(mask_dir+filename, '1')\n",
    "print('Done.')"
   ]
  },
  {
   "cell_type": "code",
   "execution_count": null,
   "metadata": {},
   "outputs": [],
   "source": [
    "# Go through subfolders of source directory and copy every .tif file into 'target_dir/images/' folder\n",
    "counter=1\n",
    "for foldername, subfolders, filenames in os.walk(source_dir):\n",
    "    print('Searching files in %s...' % (foldername))\n",
    "    for filename in filenames:\n",
    "        if filename.endswith('.tif'):\n",
    "            totalCopyPath = os.path.join(foldername, filename)\n",
    "            newName = str(counter) +'.tif'\n",
    "            counter+=1\n",
    "            print('Copying ' + filename + ' to ' + newName)\n",
    "            shutil.copy(totalCopyPath, image_dir)\n",
    "print('Done.')"
   ]
  },
  {
   "cell_type": "markdown",
   "metadata": {},
   "source": [
    "Create smaller images"
   ]
  },
  {
   "cell_type": "code",
   "execution_count": null,
   "metadata": {},
   "outputs": [],
   "source": [
    "import cv2\n",
    "from matplotlib import pyplot as plt\n",
    "from patchify import patchify"
   ]
  },
  {
   "cell_type": "code",
   "execution_count": null,
   "metadata": {},
   "outputs": [],
   "source": [
    "def create_tiles(size=512, step=512, source_dir='../data/data_original/', target_dir='../data/data_temp/'):\n",
    "    \"\"\"_summary_\n",
    "\n",
    "    Args:\n",
    "        size (int, optional): Size of the patches in pixels. Defaults to 512. Make sure the original image dimension are multiples of this size.\n",
    "        source_dir (str, optional): Directory where the large images are stored. Defaults to '../data/data_original/'.\n",
    "        target_dir (str, optional): Directory . Defaults to '../data/data_temp/'.\n",
    "    \"\"\"\n",
    "    image_dir = source_dir+'images/'\n",
    "    img_target_dir = target_dir+'images/'\n",
    "    img_counter=1\n",
    "\n",
    "    for file in os.listdir(image_dir):\n",
    "        if file.endswith('.tif'):\n",
    "            print('chopping up ' + file)\n",
    "            large_image = cv2.imread(image_dir+'/'+file, 0)\n",
    "            patches = patchify(large_image, (size, size), step=step)\n",
    "            for i in range(patches.shape[0]):\n",
    "                for j in range(patches.shape[1]):\n",
    "                    single_patch_img = patches[i, j]\n",
    "                    if not cv2.imwrite(img_target_dir + 'image_' + str(img_counter) + '_'+ str(i)+'_'+str(j)+'.tif', single_patch_img):\n",
    "                        raise Exception(\"Could not write the image\")\n",
    "            img_counter+=1\n",
    "    \n",
    "    mask_dir = source_dir+'masks/'\n",
    "    msk_target_dir = target_dir+'masks/'\n",
    "    msk_counter=1\n",
    "    \n",
    "    for file in os.listdir(mask_dir):\n",
    "        if file.endswith('.tif'):\n",
    "            print('chopping up ' + file)\n",
    "            large_image = cv2.imread(mask_dir+'/'+file, 0)\n",
    "            patches = patchify(large_image, (size, size), step=step)\n",
    "            for i in range(patches.shape[0]):\n",
    "                for j in range(patches.shape[1]):\n",
    "                    single_patch_img = patches[i, j]\n",
    "                    if not cv2.imwrite(msk_target_dir + 'mask_' + str(msk_counter) + '_'+ str(i)+'_'+str(j)+'.tif', single_patch_img):\n",
    "                        raise Exception(\"Could not write the image\")\n",
    "            msk_counter+=1\n",
    "    print('Done')\n",
    "    return"
   ]
  },
  {
   "cell_type": "code",
   "execution_count": null,
   "metadata": {},
   "outputs": [],
   "source": [
    "create_tiles()"
   ]
  },
  {
   "cell_type": "code",
   "execution_count": null,
   "metadata": {},
   "outputs": [],
   "source": [
    "# Read image\n",
    "large_image = cv2.imread('../data/original_data/image/image.tif', 0)\n",
    "patches = patchify(large_image, (512, 512), step=512)\n",
    "print(\"Large image shape is: \", large_image.shape)\n",
    "print(\"Patches array shape is: \", patches.shape)"
   ]
  },
  {
   "cell_type": "code",
   "execution_count": null,
   "metadata": {},
   "outputs": [],
   "source": [
    "# Create patches\n",
    "for i in range(patches.shape[0]):\n",
    "    for j in range(patches.shape[1]):\n",
    "        single_patch_img = patches[i, j]\n",
    "        if not cv2.imwrite('../data/tiled_data/patched_images/' + 'image_' + '_'+ str(i)+'_'+str(j)+'.tif', single_patch_img):\n",
    "            raise Exception(\"Could not write the image\")"
   ]
  },
  {
   "cell_type": "code",
   "execution_count": null,
   "metadata": {},
   "outputs": [],
   "source": [
    "# Read mask\n",
    "large_image = cv2.imread('../data/original_data/masks/mask.tif', 0)\n",
    "patches = patchify(large_image, (512, 512), step=512)\n",
    "print(\"Large image shape is: \", large_image.shape)\n",
    "print(\"Patches array shape is: \", patches.shape)"
   ]
  },
  {
   "cell_type": "code",
   "execution_count": null,
   "metadata": {},
   "outputs": [],
   "source": [
    "# Create patches\n",
    "for i in range(patches.shape[0]):\n",
    "    for j in range(patches.shape[1]):\n",
    "        single_patch_img = patches[i, j]\n",
    "        if not cv2.imwrite('../data/tiled_data/patched_masks/' + 'image_' + '_' + str(i) + '_' + str(j) + '.tif', single_patch_img):\n",
    "            raise Exception(\"Could not write the image\")"
   ]
  },
  {
   "cell_type": "markdown",
   "metadata": {},
   "source": [
    "Train/Val split"
   ]
  },
  {
   "cell_type": "code",
   "execution_count": null,
   "metadata": {},
   "outputs": [],
   "source": [
    "import splitfolders\n",
    "import shutil\n",
    "\n",
    "def split_folders(input_dir='../data/data_temp/', output_dir='../data/data_train/', ratio=(0.7,0.2,0.1), seed=42):\n",
    "    \"\"\"Splits available data according to a given ratio and copies it to a specified folder.\n",
    "\n",
    "    Args:\n",
    "        input_dir (str, optional): Path to directory containing the image tiles. Defaults to '../data/data_temp'.\n",
    "        output_dir (str, optional): Path to the training directory. Defaults to '..data/data_train'.\n",
    "        ratio (tuple, optional): Train/validation/test split ratio. Defaults to (0.8,0.2).\n",
    "        seed (int, optional): Random seed. Defaults to 42.\n",
    "    \"\"\"\n",
    "    splitfolders.ratio(input_dir, output=output_dir, seed=seed, ratio=ratio, group_prefix=None, move=True)\n",
    "\n",
    "    # This part moves the images to a subfolder because we are doing multiclass segmentation and keras' datagenerator flow_from_directory expects at least one folder\n",
    "    dir_lst=['train/','val/']\n",
    "    dir_lst2=['images/','masks/']\n",
    "\n",
    "    for dir in dir_lst:\n",
    "        for dir2 in dir_lst2:\n",
    "            os.makedirs(os.path.join(output_dir+dir+dir2+dir), exist_ok=True)\n",
    "            for file_name in os.listdir(os.path.join(output_dir+dir+dir2)):\n",
    "                # file paths\n",
    "                source = output_dir + dir + dir2 + file_name\n",
    "                destination = output_dir + dir + dir2 + dir + file_name\n",
    "                # move bitch!\n",
    "                if os.path.isfile(source):\n",
    "                    shutil.move(source, destination)\n",
    "    return\n"
   ]
  },
  {
   "cell_type": "code",
   "execution_count": null,
   "metadata": {},
   "outputs": [],
   "source": [
    "split_folders()"
   ]