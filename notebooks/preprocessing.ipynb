{
 "cells": [
  {
   "cell_type": "markdown",
   "metadata": {},
   "source": [
    "Directories"
   ]
  },
  {
   "cell_type": "code",
   "execution_count": null,
   "metadata": {},
   "outputs": [],
   "source": [
    "import os\n",
    "\n",
    "def folder_structure(target_dir='../data/'):\n",
    "    \"\"\"Generates folder structure\n",
    "\n",
    "    Args:\n",
    "        target_dir (str, optional): The data directory path relative to the directory you run this function from. Defaults to '../data/'.\n",
    "    \"\"\"\n",
    "\n",
    "    dir_lst = ['data_original', 'data_temp', 'data_train']\n",
    "    subdir_lst = ['_images/','_masks/']\n",
    "    parent_dir = os.getcwd()\n",
    "\n",
    "    # make main directories\n",
    "    for dir in dir_lst:\n",
    "        os.makedirs(os.path.join(parent_dir, target_dir, dir), exist_ok=True)\n",
    "        \n",
    "    # make subdirectories\n",
    "    for i in ['train','val','test']:\n",
    "        for subdir in subdir_lst:\n",
    "            os.makedirs(os.path.join(parent_dir, target_dir+dir_lst[2], i+subdir+i), exist_ok=True)\n",
    "    return"
   ]
  },
  {
   "cell_type": "markdown",
   "metadata": {},
   "source": [
    "Copy images and masks to folders"
   ]
  },
  {
   "cell_type": "code",
   "execution_count": null,
   "metadata": {},
   "outputs": [],
   "source": [
    "source_dir = '/Users/aaron/test/'\n",
    "target_dir = '/Users/aaron/target/'\n",
    "extensions = ['.tif','.shp', '.shx', '.dbf']\n",
    "\n",
    "image_dir = target_dir + 'image/'\n",
    "mask_dir = target_dir + 'mask/'\n",
    "\n",
    "for foldername, subfolders, filenames in os.walk(source_dir):\n",
    "    print('Searching files in %s...' % (foldername))\n",
    "    #counter+=1\n",
    "    for filename in filenames:\n",
    "        if filename.endswith('.tif'):\n",
    "            totalCopyPath = os.path.join(foldername, filename)\n",
    "            newName = os.path.join(image_dir, str(counter)+'.tif')\n",
    "            print(totalCopyPath)\n",
    "            print('Copying ' + filename + ' to ' + newName)\n",
    "            shutil.copy(totalCopyPath, image_dir)\n",
    "            #os.rename(image_dir+filename, newName)\n",
    "        elif filename.endswith(tuple(extensions)):\n",
    "            totalCopyPath = os.path.join(foldername, filename)\n",
    "            newName = os.path.join(mask_dir, str(counter))\n",
    "            print(newName)\n",
    "            print(totalCopyPath)\n",
    "            print('Copying ' + filename + ' to ' + newName)\n",
    "            shutil.copy(totalCopyPath, mask_dir)\n",
    "            #os.rename(mask_dir+filename, '1')\n",
    "print('Done.')"
   ]
  },
  {
   "cell_type": "code",
   "execution_count": null,
   "metadata": {},
   "outputs": [],
   "source": [
    "# Go through subfolders of source directory and copy every .tif file into 'target_dir/images/' folder\n",
    "counter=1\n",
    "for foldername, subfolders, filenames in os.walk(source_dir):\n",
    "    print('Searching files in %s...' % (foldername))\n",
    "    for filename in filenames:\n",
    "        if filename.endswith('.tif'):\n",
    "            totalCopyPath = os.path.join(foldername, filename)\n",
    "            newName = str(counter) +'.tif'\n",
    "            counter+=1\n",
    "            print('Copying ' + filename + ' to ' + newName)\n",
    "            shutil.copy(totalCopyPath, image_dir)\n",
    "print('Done.')"
   ]
  },
  {
   "cell_type": "markdown",
   "metadata": {},
   "source": [
    "Create smaller images"
   ]
  },
  {
   "cell_type": "code",
   "execution_count": null,
   "metadata": {},
   "outputs": [],
   "source": [
    "import cv2\n",
    "from matplotlib import pyplot as plt\n",
    "from patchify import patchify"
   ]
  },
  {
   "cell_type": "code",
   "execution_count": null,
   "metadata": {},
   "outputs": [],
   "source": [
    "def create_tiles(size=512, step=512, source_dir='../data/data_original/', target_dir='../data/data_temp/'):\n",
    "    \"\"\"_summary_\n",
    "\n",
    "    Args:\n",
    "        size (int, optional): Size of the patches in pixels. Defaults to 512. Make sure the original image dimension are multiples of this size.\n",
    "        source_dir (str, optional): Directory where the large images are stored. Defaults to '../data/data_original/'.\n",
    "        target_dir (str, optional): Directory . Defaults to '../data/data_temp/'.\n",
    "    \"\"\"\n",
    "    # Create image tiles\n",
    "    working_dir = os.getcwd()\n",
    "    print(working_dir)\n",
    "    counter=1\n",
    "\n",
    "    for root, dirs, files in os.walk(source_dir):\n",
    "        for filename in files:\n",
    "            if filename.endswith('.tif'):\n",
    "                print(root)\n",
    "                print(filename)\n",
    "                large_image = cv2.imread(root+'/'+filename, 0)\n",
    "                patches = patchify(large_image, (size, size), step=step)\n",
    "                for i in range(patches.shape[0]):\n",
    "                    for j in range(patches.shape[1]):\n",
    "                        single_patch_img = patches[i, j]\n",
    "                        if not cv2.imwrite(target_dir + 'image_' + str(counter) + '_'+ str(i)+'_'+str(j)+'.tif', single_patch_img):\n",
    "                            raise Exception(\"Could not write the image\")\n",
    "                counter+=1\n",
    "    return"
   ]
  },
  {
   "cell_type": "markdown",
   "metadata": {},
   "source": [
    "Train/Val split"
   ]
  },
  {
   "cell_type": "code",
   "execution_count": null,
   "metadata": {},
   "outputs": [],
   "source": [
    "import splitfolders\n",
    "\n",
    "def split_folders(input_dir='../data/data_temp', output_dir='..data/data_train', ratio=(0.8,0.2), seed=42):\n",
    "    \"\"\"Splits available data according to a given ratio and copies it to a specified folder.\n",
    "\n",
    "    Args:\n",
    "        input_dir (str, optional): Path to directory containing the image tiles. Defaults to '../data/data_temp'.\n",
    "        output_dir (str, optional): Path to the training directory. Defaults to '..data/data_train'.\n",
    "        ratio (tuple, optional): Train/validation/test split ratio. Defaults to (0.8,0.2).\n",
    "        seed (int, optional): Random seed. Defaults to 42.\n",
    "    \"\"\"\n",
    "    splitfolders.ratio(input_dir, output=output_dir, seed=seed, ratio=ratio, group_prefix=None)\n",
    "    return"
   ]
  }
 ],
 "metadata": {
  "interpreter": {
   "hash": "27bfc2e7f7c4c223eebafb71203e56e1caf76124c3948973e06b9c38250454df"
  },
  "kernelspec": {
   "display_name": "Python 3.9.8 ('.venv': venv)",
   "language": "python",
   "name": "python3"
  },
  "language_info": {
   "codemirror_mode": {
    "name": "ipython",
    "version": 3
   },
   "file_extension": ".py",
   "mimetype": "text/x-python",
   "name": "python",
   "nbconvert_exporter": "python",
   "pygments_lexer": "ipython3",
   "version": "3.9.8"
  }
 },
 "nbformat": 4,
 "nbformat_minor": 2
}
