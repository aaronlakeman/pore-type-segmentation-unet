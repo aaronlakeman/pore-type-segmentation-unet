{
 "cells": [
  {
   "cell_type": "markdown",
   "metadata": {},
   "source": [
    "# Semantic Segmentation with pretrained models\n",
    "----------------------\n",
    "\n",
    "This notebook implements an alternative training approach including the usage of pretrained models.\n",
    "These models (e.g. resnet34) replace the encoder part of the standard Unet architecture.\n",
    "\n",
    "--Warning-- There are still some dimensionality issues (RGB vs grayscale), which are not ironed out"
   ]
  },
  {
   "cell_type": "code",
   "execution_count": null,
   "metadata": {},
   "outputs": [],
   "source": [
    "# Import packages\n",
    "import segmentation_models as sm\n",
    "import glob\n",
    "import cv2\n",
    "import numpy as np\n",
    "from matplotlib import pyplot as plt\n",
    "from sklearn.preprocessing import LabelEncoder\n",
    "from tensorflow.keras.utils import to_categorical\n",
    "import tensorflow\n",
    "import boto3\n",
    "import mlflow\n",
    "\n",
    "sm.set_framework('tf.keras')\n",
    "sm.framework()"
   ]
  },
  {
   "cell_type": "code",
   "execution_count": null,
   "metadata": {},
   "outputs": [],
   "source": [
    "# Load train data\n",
    "image_names = glob.glob(\"../data/data_train/train/images/train/*.tif\")\n",
    "image_names.sort()\n",
    "images = [cv2.imread(image, 1) for image in image_names] #SM backbones use 3 channel images, so let us read images in color.\n",
    "image_dataset = np.array(images)\n",
    "\n",
    "mask_names = glob.glob(\"../data/data_train/train/masks/train/*.tif\")\n",
    "mask_names.sort()\n",
    "masks = [cv2.imread(mask, 0) for mask in mask_names]\n",
    "mask_dataset = np.array(masks)\n",
    "\n",
    "# Load val data\n",
    "image_names = glob.glob(\"../data/data_train/val/images/val/*.tif\")\n",
    "image_names.sort()\n",
    "images = [cv2.imread(image, 1) for image in image_names] #SM backbones use 3 channel images, so let us read images in color.\n",
    "val_image_dataset = np.array(images)\n",
    "\n",
    "mask_names = glob.glob(\"../data/data_train/val/masks/val/*.tif\")\n",
    "mask_names.sort()\n",
    "masks = [cv2.imread(mask, 0) for mask in mask_names]\n",
    "val_mask_dataset = np.array(masks)"
   ]
  },
  {
   "cell_type": "code",
   "execution_count": null,
   "metadata": {},
   "outputs": [],
   "source": [
    "#Encode labels to 0, 1, 2, 3, ... but multi dim array so need to flatten, encode and reshape\n",
    "labelencoder = LabelEncoder()\n",
    "n, h, w = mask_dataset.shape  \n",
    "mask_dataset_reshaped = mask_dataset.reshape(-1,1)\n",
    "mask_dataset_reshaped_encoded = labelencoder.fit_transform(mask_dataset_reshaped)\n",
    "mask_dataset_encoded = mask_dataset_reshaped_encoded.reshape(n, h, w)\n",
    "n_classes=4\n",
    "\n",
    "labelencoder = LabelEncoder()\n",
    "n, h, w = val_mask_dataset.shape  \n",
    "mask_dataset_reshaped = val_mask_dataset.reshape(-1,1)\n",
    "mask_dataset_reshaped_encoded = labelencoder.fit_transform(mask_dataset_reshaped)\n",
    "val_mask_dataset_encoded = mask_dataset_reshaped_encoded.reshape(n, h, w)\n",
    "n_classes=4"
   ]
  },
  {
   "cell_type": "code",
   "execution_count": null,
   "metadata": {},
   "outputs": [],
   "source": [
    "mask_dataset_encoded = np.expand_dims(mask_dataset_encoded, axis = 3)\n",
    "val_mask_dataset_encoded = np.expand_dims(val_mask_dataset_encoded, axis = 3)"
   ]
  },
  {
   "cell_type": "code",
   "execution_count": null,
   "metadata": {},
   "outputs": [],
   "source": [
    "#Normalize images\n",
    "image_dataset = image_dataset /255.  #Can also normalize or scale using MinMax scaler\n",
    "val_image_dataset = val_image_dataset /255.  #Can also normalize or scale using MinMax scaler"
   ]
  },
  {
   "cell_type": "code",
   "execution_count": null,
   "metadata": {},
   "outputs": [],
   "source": [
    "train_masks_cat = to_categorical(mask_dataset_encoded, num_classes=n_classes)\n",
    "train_masks_cat = train_masks_cat.reshape((mask_dataset_encoded.shape[0], mask_dataset_encoded.shape[1], mask_dataset_encoded.shape[2], n_classes))\n",
    "\n",
    "val_masks_cat = to_categorical(val_mask_dataset_encoded, num_classes=n_classes)\n",
    "val_masks_cat = val_masks_cat.reshape((val_mask_dataset_encoded.shape[0], val_mask_dataset_encoded.shape[1], val_mask_dataset_encoded.shape[2], n_classes))"
   ]
  },
  {
   "cell_type": "code",
   "execution_count": null,
   "metadata": {},
   "outputs": [],
   "source": [
    "#Reused parameters in all models\n",
    "n_classes=4\n",
    "activation='softmax'\n",
    "\n",
    "LR = 0.0001\n",
    "optim = tensorflow.keras.optimizers.Adam(LR)\n",
    "\n",
    "# Segmentation models losses can be combined together by '+' and scaled by integer or float factor\n",
    "dice_loss = sm.losses.DiceLoss() \n",
    "focal_loss = sm.losses.CategoricalFocalLoss()\n",
    "total_loss = dice_loss + (1 * focal_loss)\n",
    "metrics = [sm.metrics.IOUScore(threshold=0.5), sm.metrics.FScore(threshold=0.5)]"
   ]
  },
  {
   "cell_type": "code",
   "execution_count": null,
   "metadata": {},
   "outputs": [],
   "source": [
    "###Model #for resnet use resnet34\n",
    "BACKBONE = 'resnet34'\n",
    "preprocess_input = sm.get_preprocessing(BACKBONE)\n",
    "\n",
    "# preprocess input\n",
    "train_processed = preprocess_input(image_dataset)\n",
    "val_processed = preprocess_input(val_image_dataset)"
   ]
  },
  {
   "cell_type": "code",
   "execution_count": null,
   "metadata": {},
   "outputs": [],
   "source": [
    "from keras.layers import Input, Conv2D\n",
    "from keras.models import Model\n",
    "\n",
    "# Do some stuff because our input images have only one channel\n",
    "N = train_processed.shape[-1] # 1 in our case because grayscale\n",
    "base_model= sm.Unet(BACKBONE, encoder_weights='imagenet')\n",
    "\n",
    "inp = Input(shape=(512,512,N))\n",
    "l1 = Conv2D(3, (1,1))(inp) # map N channels to 3 channels\n",
    "out = base_model(l1)\n",
    "\n",
    "model = Model(inp, out, name=base_model.name)"
   ]
  },
  {
   "cell_type": "code",
   "execution_count": null,
   "metadata": {},
   "outputs": [],
   "source": [
    "# # define model\n",
    "# model = sm.Unet(BACKBONE, encoder_weights='imagenet', classes=n_classes, activation=activation)\n",
    "\n",
    "# compile keras model with defined optimozer, loss and metrics\n",
    "model.compile(optim, total_loss, metrics=metrics)"
   ]
  },
  {
   "cell_type": "code",
   "execution_count": null,
   "metadata": {},
   "outputs": [],
   "source": [
    "# ML_FLOW\n",
    "epochs = 40\n",
    "batch_size = 4\n",
    "model_type = 'resnet34'\n",
    "loss_name = 'total_loss'\n",
    "\n",
    "model_name = f'{model_type}_{loss_name}_epochs{epochs}_batchsize{batch_size}_learningrate{LR}'\n",
    "TRACKING_URI = open('../.mlflow_uri').read().strip()\n",
    "mlflow.set_tracking_uri(TRACKING_URI)\n",
    "\n",
    "# Set an experiment name, which must be unique and case-sensitive.\n",
    "experiment = mlflow.set_experiment('magic rocks!')\n",
    "\n",
    "# Set run name and start run\n",
    "mlflow.start_run(run_name=f'{model_name}')\n",
    "mlflow.tensorflow.autolog()\n",
    "\n",
    "# Get Experiment Details\n",
    "print(\"Experiment_id: {}\".format(experiment.experiment_id))\n",
    "print(\"Artifact Location: {}\".format(experiment.artifact_location))\n",
    "print(\"Name: {}\".format(experiment.name))\n",
    "print(\"Lifecycle_stage: {}\".format(experiment.lifecycle_stage))"
   ]
  },
  {
   "cell_type": "code",
   "execution_count": null,
   "metadata": {},
   "outputs": [],
   "source": [
    "history=model.fit(train_processed, \n",
    "          train_masks_cat,\n",
    "          batch_size=batch_size, \n",
    "          epochs=epochs,\n",
    "          verbose=1,\n",
    "          validation_data=(val_processed, val_masks_cat))"
   ]
  },
  {
   "cell_type": "code",
   "execution_count": null,
   "metadata": {},
   "outputs": [],
   "source": [
    "# End mlflow run\n",
    "mlflow.end_run()"
   ]
  },
  {
   "cell_type": "code",
   "execution_count": null,
   "metadata": {},
   "outputs": [],
   "source": [
    "model.save(f'../models/{model_name}.hdf5')"
   ]
  },
  {
   "cell_type": "code",
   "execution_count": null,
   "metadata": {},
   "outputs": [],
   "source": [
    "#plot the training and validation accuracy and loss at each epoch\n",
    "loss = history.history['loss']\n",
    "val_loss = history.history['val_loss']\n",
    "epochs = range(1, len(loss) + 1)\n",
    "plt.plot(epochs, loss, 'y', label='Training loss')\n",
    "plt.plot(epochs, val_loss, 'r', label='Validation loss')\n",
    "plt.title('Training and validation loss')\n",
    "plt.xlabel('Epochs')\n",
    "plt.ylabel('Loss')\n",
    "plt.legend()\n",
    "plt.show()\n",
    "\n",
    "acc = history.history['accuracy']\n",
    "val_acc = history.history['val_accuracy']\n",
    "\n",
    "plt.plot(epochs, acc, 'y', label='Training Accuracy')\n",
    "plt.plot(epochs, val_acc, 'r', label='Validation Accuracy')\n",
    "plt.title('Training and validation Accuracy')\n",
    "plt.xlabel('Epochs')\n",
    "plt.ylabel('Accuracy')\n",
    "plt.legend()\n",
    "plt.show()\n",
    "plt.savefig(f'../models/{model_name}.jpg', dpi=150)"
   ]
  }
 ],
 "metadata": {
  "interpreter": {
   "hash": "fce1c7022bfe12e6241fab6e134680d8fdeb514a4f69a8524f2634ae3ff58bfb"
  },
  "kernelspec": {
   "display_name": "Python 3.9.8 ('.venv': venv)",
   "language": "python",
   "name": "python3"
  },
  "language_info": {
   "codemirror_mode": {
    "name": "ipython",
    "version": 3
   },
   "file_extension": ".py",
   "mimetype": "text/x-python",
   "name": "python",
   "nbconvert_exporter": "python",
   "pygments_lexer": "ipython3",
   "version": "3.9.8"
  }
 },
 "nbformat": 4,
 "nbformat_minor": 2
}
