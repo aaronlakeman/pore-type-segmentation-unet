{
 "cells": [
  {
   "cell_type": "code",
   "execution_count": null,
   "metadata": {},
   "outputs": [],
   "source": [
    "import segmentation_models as sm\n",
    "import glob\n",
    "import cv2\n",
    "import numpy as np\n",
    "from matplotlib import pyplot as plt\n",
    "from sklearn.preprocessing import LabelEncoder\n",
    "from tensorflow.keras.utils import to_categorical\n",
    "import tensorflow\n",
    "\n",
    "sm.set_framework('tf.keras')\n",
    "sm.framework()"
   ]
  },
  {
   "cell_type": "code",
   "execution_count": null,
   "metadata": {},
   "outputs": [],
   "source": [
    "# Load train data\n",
    "image_names = glob.glob(\"../data/data_train/train/images/train/*.tif\")\n",
    "image_names.sort()\n",
    "images = [cv2.imread(image, 1) for image in image_names] #SM backbones use 3 channel images, so let us read images in color.\n",
    "image_dataset = np.array(images)\n",
    "\n",
    "mask_names = glob.glob(\"../data/data_train/train/masks/train/*.tif\")\n",
    "mask_names.sort()\n",
    "masks = [cv2.imread(mask, 0) for mask in mask_names]\n",
    "mask_dataset = np.array(masks)\n",
    "\n",
    "# Load val data\n",
    "image_names = glob.glob(\"../data/data_train/val/images/val/*.tif\")\n",
    "image_names.sort()\n",
    "images = [cv2.imread(image, 1) for image in image_names] #SM backbones use 3 channel images, so let us read images in color.\n",
    "val_image_dataset = np.array(images)\n",
    "\n",
    "mask_names = glob.glob(\"../data/data_train/val/masks/val/*.tif\")\n",
    "mask_names.sort()\n",
    "masks = [cv2.imread(mask, 0) for mask in mask_names]\n",
    "val_mask_dataset = np.array(masks)"
   ]
  },
  {
   "cell_type": "code",
   "execution_count": null,
   "metadata": {},
   "outputs": [],
   "source": [
    "#Encode labels to 0, 1, 2, 3, ... but multi dim array so need to flatten, encode and reshape\n",
    "labelencoder = LabelEncoder()\n",
    "n, h, w = mask_dataset.shape  \n",
    "mask_dataset_reshaped = mask_dataset.reshape(-1,1)\n",
    "mask_dataset_reshaped_encoded = labelencoder.fit_transform(mask_dataset_reshaped)\n",
    "mask_dataset_encoded = mask_dataset_reshaped_encoded.reshape(n, h, w)\n",
    "n_classes=4\n",
    "\n",
    "labelencoder = LabelEncoder()\n",
    "n, h, w = val_mask_dataset.shape  \n",
    "mask_dataset_reshaped = val_mask_dataset.reshape(-1,1)\n",
    "mask_dataset_reshaped_encoded = labelencoder.fit_transform(mask_dataset_reshaped)\n",
    "val_mask_dataset_encoded = mask_dataset_reshaped_encoded.reshape(n, h, w)\n",
    "n_classes=4"
   ]
  },
  {
   "cell_type": "code",
   "execution_count": null,
   "metadata": {},
   "outputs": [],
   "source": [
    "mask_dataset_encoded = np.expand_dims(mask_dataset_encoded, axis = 3)\n",
    "val_mask_dataset_encoded = np.expand_dims(val_mask_dataset_encoded, axis = 3)"
   ]
  },
  {
   "cell_type": "code",
   "execution_count": null,
   "metadata": {},
   "outputs": [],
   "source": [
    "#Normalize images\n",
    "image_dataset = image_dataset /255.  #Can also normalize or scale using MinMax scaler\n",
    "val_image_dataset = val_image_dataset /255.  #Can also normalize or scale using MinMax scaler"
   ]
  },
  {
   "cell_type": "code",
   "execution_count": null,
   "metadata": {},
   "outputs": [],
   "source": [
    "train_masks_cat = to_categorical(mask_dataset_encoded, num_classes=n_classes)\n",
    "train_masks_cat = train_masks_cat.reshape((mask_dataset_encoded.shape[0], mask_dataset_encoded.shape[1], mask_dataset_encoded.shape[2], n_classes))\n",
    "\n",
    "val_masks_cat = to_categorical(val_mask_dataset_encoded, num_classes=n_classes)\n",
    "val_masks_cat = val_masks_cat.reshape((val_mask_dataset_encoded.shape[0], val_mask_dataset_encoded.shape[1], val_mask_dataset_encoded.shape[2], n_classes))"
   ]
  },
  {
   "cell_type": "code",
   "execution_count": null,
   "metadata": {},
   "outputs": [],
   "source": [
    "#Reused parameters in all models\n",
    "n_classes=4\n",
    "activation='softmax'\n",
    "\n",
    "LR = 0.0001\n",
    "optim = tensorflow.keras.optimizers.Adam(LR)\n",
    "\n",
    "# Segmentation models losses can be combined together by '+' and scaled by integer or float factor\n",
    "dice_loss = sm.losses.DiceLoss() \n",
    "focal_loss = sm.losses.CategoricalFocalLoss()\n",
    "total_loss = dice_loss + (1 * focal_loss)\n",
    "metrics = [sm.metrics.IOUScore(threshold=0.5), sm.metrics.FScore(threshold=0.5)]"
   ]
  },
  {
   "cell_type": "code",
   "execution_count": null,
   "metadata": {},
   "outputs": [],
   "source": [
    "###Model #for resnet use resnet34\n",
    "BACKBONE = 'resnet34'\n",
    "preprocess_input = sm.get_preprocessing(BACKBONE)\n",
    "\n",
    "# preprocess input\n",
    "train_processed = preprocess_input(image_dataset)\n",
    "val_processed = preprocess_input(val_image_dataset)"
   ]
  },
  {
   "cell_type": "code",
   "execution_count": null,
   "metadata": {},
   "outputs": [],
   "source": [
    "# define model\n",
    "model = sm.Unet(BACKBONE, encoder_weights='imagenet', classes=n_classes, activation=activation)\n",
    "\n",
    "# compile keras model with defined optimozer, loss and metrics\n",
    "model.compile(optim, total_loss, metrics=metrics)"
   ]
  },
  {
   "cell_type": "code",
   "execution_count": null,
   "metadata": {},
   "outputs": [],
   "source": [
    "history=model.fit(train_processed, \n",
    "          train_masks_cat,\n",
    "          batch_size=4, \n",
    "          epochs=10,\n",
    "          verbose=1,\n",
    "          validation_data=(val_processed, val_masks_cat))"
   ]
  },
  {
   "cell_type": "code",
   "execution_count": null,
   "metadata": {},
   "outputs": [],
   "source": [
    "model.save('../models/res34_backbone_n_50epochs.hdf5')"
   ]
  }
 ],
 "metadata": {
  "interpreter": {
   "hash": "fce1c7022bfe12e6241fab6e134680d8fdeb514a4f69a8524f2634ae3ff58bfb"
  },
  "kernelspec": {
   "display_name": "Python 3.9.8 ('.venv': venv)",
   "language": "python",
   "name": "python3"
  },
  "language_info": {
   "codemirror_mode": {
    "name": "ipython",
    "version": 3
   },
   "file_extension": ".py",
   "mimetype": "text/x-python",
   "name": "python",
   "nbconvert_exporter": "python",
   "pygments_lexer": "ipython3",
   "version": "3.9.8"
  }
 },
 "nbformat": 4,
 "nbformat_minor": 2
}
