{
 "cells": [
  {
   "cell_type": "code",
   "execution_count": null,
   "metadata": {},
   "outputs": [],
   "source": [
    "#Import the appropriate packages\n",
    "import cv2\n",
    "import numpy as np\n",
    "import matplotlib.pyplot as plt\n",
    "import matplotlib.colors as mc\n",
    "from sklearn.cluster import KMeans\n",
    "from skimage.segmentation import slic\n",
    "from skimage.segmentation import mark_boundaries\n",
    "import matplotlib.pyplot as plt\n",
    "from skimage.segmentation import felzenszwalb, slic, quickshift, watershed\n",
    "from skimage.segmentation import mark_boundaries\n",
    "from skimage.filters import sobel\n",
    "from skimage.color import rgb2gray"
   ]
  },
  {
   "cell_type": "code",
   "execution_count": null,
   "metadata": {},
   "outputs": [],
   "source": [
    "#Import Image\n",
    "image = cv2.imread(\"images/test_2.jpg\")"
   ]
  },
  {
   "cell_type": "code",
   "execution_count": null,
   "metadata": {},
   "outputs": [],
   "source": [
    "# reshape the image to a 2D array of pixels and 3 color values (RGB)\n",
    "pixel_values = image.reshape((-1, 3))\n",
    "# convert to float\n",
    "pixel_values = np.float32(pixel_values)"
   ]
  },
  {
   "cell_type": "markdown",
   "metadata": {},
   "source": [
    "#### K-means clustering for image segmentation"
   ]
  },
  {
   "cell_type": "code",
   "execution_count": null,
   "metadata": {},
   "outputs": [],
   "source": [
    "# define stopping criteria\n",
    "criteria = (cv2.TERM_CRITERIA_EPS + cv2.TERM_CRITERIA_MAX_ITER, 100, 0.2)"
   ]
  },
  {
   "cell_type": "code",
   "execution_count": null,
   "metadata": {},
   "outputs": [],
   "source": [
    "# number of clusters (K)\n",
    "k = 3\n",
    "_, labels, (centers) = cv2.kmeans(pixel_values, k, None, criteria, 10, cv2.KMEANS_RANDOM_CENTERS)"
   ]
  },
  {
   "cell_type": "code",
   "execution_count": null,
   "metadata": {},
   "outputs": [],
   "source": [
    "# convert back to 8 bit values\n",
    "centers = np.uint8(centers)\n",
    "# flatten the labels array\n",
    "labels = labels.flatten()\n",
    "# convert all pixels to the color of the centroids\n",
    "segmented_image = centers[labels.flatten()]\n",
    "# reshape back to the original image dimension\n",
    "segmented_image = segmented_image.reshape(image.shape)"
   ]
  },
  {
   "cell_type": "code",
   "execution_count": null,
   "metadata": {},
   "outputs": [],
   "source": [
    "fig = plt.figure(figsize=(10,10))\n",
    "ax1 = fig.add_subplot(2,2,1)\n",
    "ax1.imshow(image)\n",
    "ax2 = fig.add_subplot(2,2,2)\n",
    "ax2.imshow(segmented_image)"
   ]
  },
  {
   "cell_type": "code",
   "execution_count": null,
   "metadata": {},
   "outputs": [],
   "source": [
    "# convert to 2d array\n",
    "img2d = image[:,:,:3].reshape((image.shape[0]*image.shape[1],image.shape[2]))"
   ]
  },
  {
   "cell_type": "code",
   "execution_count": null,
   "metadata": {},
   "outputs": [],
   "source": [
    "# create an object of the classifier and train it\n",
    "cl = KMeans(n_clusters=4)\n",
    "param = cl.fit(img2d)"
   ]
  },
  {
   "cell_type": "code",
   "execution_count": null,
   "metadata": {},
   "outputs": [],
   "source": [
    "# get the labels of the classes and reshape it x-y-bands shape order (one band only)\n",
    "img_cl = cl.labels_\n",
    "img_cl = img_cl.reshape(image[:,:,0].shape)"
   ]
  },
  {
   "cell_type": "markdown",
   "metadata": {},
   "source": [
    "To show the resulting image, we use a custom color map where you can control the color of each class. "
   ]
  },
  {
   "cell_type": "code",
   "execution_count": null,
   "metadata": {},
   "outputs": [],
   "source": [
    "# Create a custom color map to represent our 4 different classes\n",
    "cmap = mc.LinearSegmentedColormap.from_list(\"\", [\"#B90E0A\",\"navy\",\"green\",\"#E1AD01\"])"
   ]
  },
  {
   "cell_type": "code",
   "execution_count": null,
   "metadata": {},
   "outputs": [],
   "source": [
    "# Show the resulting array and save it as jpg image\n",
    "fig = plt.figure(figsize=(10,10))\n",
    "ax1 = fig.add_subplot(2,2,1)\n",
    "ax1.imshow(img_cl, cmap=cmap)\n",
    "ax2 = fig.add_subplot(2,2,2)\n",
    "ax2.imshow(image)\n",
    "plt.show()"
   ]
  },
  {
   "cell_type": "markdown",
   "metadata": {},
   "source": [
    "#### Overview of different segmentation methods"
   ]
  },
  {
   "cell_type": "code",
   "execution_count": null,
   "metadata": {},
   "outputs": [],
   "source": [
    "#img = img_as_float(image()[::2, ::2])\n",
    "\n",
    "segments_fz = felzenszwalb(image, scale=100, sigma=0.5, min_size=50)\n",
    "segments_slic = slic(image, n_segments=250, compactness=10, sigma=1,\n",
    "                     start_label=1)\n",
    "segments_quick = quickshift(image, kernel_size=3, max_dist=6, ratio=0.5)\n",
    "gradient = sobel(rgb2gray(image))\n",
    "segments_watershed = watershed(gradient, markers=250, compactness=0.001)\n",
    "\n",
    "print(f'Felzenszwalb number of segments: {len(np.unique(segments_fz))}')\n",
    "print(f'SLIC number of segments: {len(np.unique(segments_slic))}')\n",
    "print(f'Quickshift number of segments: {len(np.unique(segments_quick))}')\n",
    "print(f'Compact Watershed number of segments: {len(np.unique(segments_watershed))}')\n",
    "\n",
    "fig, ax = plt.subplots(2, 2, figsize=(10, 10), sharex=True, sharey=True)\n",
    "\n",
    "ax[0, 0].imshow(mark_boundaries(image, segments_fz))\n",
    "ax[0, 0].set_title(\"Felzenszwalbs's method\")\n",
    "ax[0, 1].imshow(mark_boundaries(image, segments_slic))\n",
    "ax[0, 1].set_title('SLIC')\n",
    "ax[1, 0].imshow(mark_boundaries(image, segments_quick))\n",
    "ax[1, 0].set_title('Quickshift')\n",
    "ax[1, 1].imshow(mark_boundaries(image, segments_watershed))\n",
    "ax[1, 1].set_title('Compact watershed')\n",
    "\n",
    "for a in ax.ravel():\n",
    "    a.set_axis_off()\n",
    "\n",
    "plt.tight_layout()\n",
    "plt.show()"
   ]
  },
  {
   "cell_type": "markdown",
   "metadata": {},
   "source": [
    "#### Fine tuning of slic segementation (seemed most promising)"
   ]
  },
  {
   "cell_type": "code",
   "execution_count": null,
   "metadata": {},
   "outputs": [],
   "source": [
    "segments_slic = slic(image, n_segments=500, compactness=10, sigma=1,\n",
    "                     start_label=1)\n",
    "\n",
    "print(f'SLIC number of segments: {len(np.unique(segments_slic))}')\n",
    "\n",
    "fig = plt.imshow(mark_boundaries(image, segments_slic))\n",
    "plt.savefig('slic_comp_2.png', dpi=600)"
   ]
  },
  {
   "cell_type": "markdown",
   "metadata": {},
   "source": [
    "#### Edge detection"
   ]
  },
  {
   "cell_type": "code",
   "execution_count": null,
   "metadata": {},
   "outputs": [],
   "source": [
    "edges = cv2.Canny(image,150,200)\n",
    "plt.figure(figsize=(20,20))\n",
    "plt.subplot(1,2,1),plt.imshow(image)\n",
    "plt.title('Original Image'), plt.xticks([]), plt.yticks([])\n",
    "plt.subplot(1,2,2),plt.imshow(edges,cmap = 'gray')\n",
    "plt.title('Edge Image'), plt.xticks([]), plt.yticks([])\n",
    "plt.show()"
   ]
  },
  {
   "cell_type": "code",
   "execution_count": null,
   "metadata": {},
   "outputs": [],
   "source": [
    "from skimage.io import imread\n",
    "from skimage.transform import resize\n",
    "from skimage.feature import hog\n",
    "from skimage import exposure\n",
    "import matplotlib.pyplot as plt"
   ]
  },
  {
   "cell_type": "code",
   "execution_count": null,
   "metadata": {},
   "outputs": [],
   "source": [
    "# reading the image\n",
    "img = imread('Images/test.png')"
   ]
  },
  {
   "cell_type": "code",
   "execution_count": null,
   "metadata": {},
   "outputs": [],
   "source": [
    "#creating hog features\n",
    "fd, hog_image = hog(img, orientations=1, pixels_per_cell=(2, 2),\n",
    "                \tcells_per_block=(2, 2), visualize=True, multichannel=True)\n",
    "\n",
    "\t\t\t\t\n",
    "plt.figure(figsize=(20,20))\n",
    "plt.subplot(1,2,1),plt.imshow(img)\n",
    "plt.title('Original Image'), plt.xticks([]), plt.yticks([])\n",
    "plt.subplot(1,2,2),plt.imshow(hog_image)\n",
    "plt.title('hog_detection'), plt.xticks([]), plt.yticks([])\n",
    "plt.show()"
   ]
  },
  {
   "cell_type": "code",
   "execution_count": null,
   "metadata": {},
   "outputs": [],
   "source": []
  },
  {
   "cell_type": "code",
   "execution_count": null,
   "metadata": {},
   "outputs": [],
   "source": [
    "# Settings: pixels_per_cell is by far the most important setting (choose 2,2), all the other settings seems to play no influence on the \n",
    "# output, multichannel and visualize need to be set to true\n",
    "# fd1 is a flattened numpy array with ??? grayscale values or vector directions?\n",
    "# For large images this can take some time\n",
    "\n",
    "#creating hog features\n",
    "fd_1, hog_image_1 = hog(img, orientations=1, pixels_per_cell=(2, 2),\n",
    "                \tvisualize=True, multichannel=True)\n",
    "#{'L1', 'L1-sqrt', 'L2', 'L2-Hys'}\n",
    "fd_2, hog_image_2 = hog(img, orientations=1, pixels_per_cell=(2, 2),\n",
    "                \tcells_per_block=(2, 2), visualize=True, multichannel=True)\n",
    "\n",
    "plt.figure(figsize=(20,20))\n",
    "plt.subplot(1,2,1),plt.imshow(hog_image_1, cmap='gray')\n",
    "plt.title('Hog_setting_1'), plt.xticks([]), plt.yticks([])\n",
    "plt.subplot(1,2,2),plt.imshow(hog_image_2,cmap = 'gray')\n",
    "plt.title('Hog_setting_2'), plt.xticks([]), plt.yticks([])\n",
    "plt.show()"
   ]
  },
  {
   "cell_type": "code",
   "execution_count": null,
   "metadata": {},
   "outputs": [],
   "source": [
    "plt.imshow(hog_image_2,cmap = 'gray')"
   ]
  },
  {
   "cell_type": "code",
   "execution_count": null,
   "metadata": {},
   "outputs": [],
   "source": [
    "image = hog_image_2\n",
    "\n",
    "segments_fz = felzenszwalb(image, scale=100, sigma=0.5, min_size=50)\n",
    "segments_slic = slic(image, n_segments=250, compactness=10, sigma=1,\n",
    "                     start_label=1)\n",
    "gradient = sobel(image)\n",
    "segments_watershed = watershed(gradient, markers=250, compactness=0.001)\n",
    "\n",
    "print(f'Felzenszwalb number of segments: {len(np.unique(segments_fz))}')\n",
    "print(f'SLIC number of segments: {len(np.unique(segments_slic))}')\n",
    "print(f'Compact Watershed number of segments: {len(np.unique(segments_watershed))}')\n",
    "\n",
    "fig, ax = plt.subplots(1, 3, figsize=(20, 20), sharex=True, sharey=True)\n",
    "\n",
    "ax[0].imshow(mark_boundaries(image, segments_fz))\n",
    "ax[0].set_title(\"Felzenszwalbs's method\")\n",
    "ax[1].imshow(mark_boundaries(image, segments_slic))\n",
    "ax[1].set_title('SLIC')\n",
    "ax[2].imshow(mark_boundaries(image, segments_watershed))\n",
    "ax[2].set_title('Compact watershed')\n",
    "\n",
    "for a in ax.ravel():\n",
    "    a.set_axis_off()\n",
    "\n",
    "plt.tight_layout()\n",
    "plt.show()"
   ]
  }
 ],
 "metadata": {
  "interpreter": {
   "hash": "fce1c7022bfe12e6241fab6e134680d8fdeb514a4f69a8524f2634ae3ff58bfb"
  },
  "kernelspec": {
   "display_name": "Python 3.9.8 ('.venv': venv)",
   "language": "python",
   "name": "python3"
  },
  "language_info": {
   "codemirror_mode": {
    "name": "ipython",
    "version": 3
   },
   "file_extension": ".py",
   "mimetype": "text/x-python",
   "name": "python",
   "nbconvert_exporter": "python",
   "pygments_lexer": "ipython3",
   "version": "3.9.8"
  }
 },
 "nbformat": 4,
 "nbformat_minor": 2
}
