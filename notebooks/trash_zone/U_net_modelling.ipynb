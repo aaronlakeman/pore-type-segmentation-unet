{
 "cells": [
  {
   "cell_type": "code",
   "execution_count": null,
   "metadata": {},
   "outputs": [],
   "source": [
    "# Load appropriate packages\n",
    "from simple_unet_model import simple_unet_model   #Use normal unet model\n",
    "from tensorflow.keras.utils import normalize\n",
    "import os\n",
    "import cv2\n",
    "from PIL import Image\n",
    "import numpy as np\n",
    "from matplotlib import pyplot as plt"
   ]
  },
  {
   "cell_type": "code",
   "execution_count": null,
   "metadata": {},
   "outputs": [],
   "source": [
    "image_directory = 'images/'\n",
    "mask_directory = 'mask/'"
   ]
  },
  {
   "cell_type": "code",
   "execution_count": null,
   "metadata": {},
   "outputs": [],
   "source": [
    "def make_tiles(dir_in: str, dir_out: str, d: int):\n",
    "    \"\"\"tiles all image files in a given folder\n",
    "    Args:\n",
    "        dir_in (str): directory with image files\n",
    "        dir_out (str): output directory\n",
    "        d (int): tilesize in pixels\n",
    "    \"\"\"\n",
    "    for filename in glob.glob(\n",
    "        dir_in + \"/*.tif\"\n",
    "    ):\n",
    "        img = cv2.imread(filename)\n",
    "        name, ext = os.path.splitext(filename)\n",
    "        name = name.split(\"/\")[1]\n",
    "        w, h = img.size\n",
    "        grid = product(range(0, h - h % d, d), range(0, w - w % d, d))\n",
    "        \n",
    "        for i, j in grid:\n",
    "            box = (j, i, j + d, i + d)\n",
    "            cropped = img.crop(box)\n",
    "            output = os.path.join(dir_out, f\"{name}_{i}_{j}{ext}\")\n",
    "            cv2.imwrite(output, cropped)"
   ]
  },
  {
   "cell_type": "code",
   "execution_count": null,
   "metadata": {},
   "outputs": [],
   "source": [
    "import os\n",
    "import gdal\n",
    "\n",
    "in_path = 'images/'\n",
    "input_filename = 'test_1.tif'\n",
    "\n",
    "out_path = 'mask/'\n",
    "output_filename = 'test_1_tile_'\n",
    "\n",
    "tile_size_x = 50\n",
    "tile_size_y = 70\n",
    "\n",
    "ds = gdal.Open(in_path + input_filename)\n",
    "band = ds.GetRasterBand(1)\n",
    "xsize = band.XSize\n",
    "ysize = band.YSize\n",
    "\n",
    "for i in range(0, xsize, tile_size_x):\n",
    "    for j in range(0, ysize, tile_size_y):\n",
    "        com_string = \"gdal_translate -of GTIFF -srcwin \" + str(i)+ \", \" + str(j) + \", \" + str(tile_size_x) + \", \" + str(tile_size_y) + \" \" + str(in_path) + str(input_filename) + \" \" + str(out_path) + str(output_filename) + str(i) + \"_\" + str(j) + \".tif\"\n",
    "        os.system(com_string)"
   ]
  },
  {
   "cell_type": "code",
   "execution_count": null,
   "metadata": {},
   "outputs": [],
   "source": [
    "def make_tiles(dir_in: str, dir_out: str, d: int):\n",
    "    SIZE = d\n",
    "    images = os.listdir(dir_in)\n",
    "    image_dataset = []\n",
    "    mask_dataset = []\n",
    "\n",
    "    for i, image_name in enumerate(images):  \n",
    "        if (image_name.split('.')[1] == 'tif'):\n",
    "            image = cv2.imread(image_directory+image_name, 0)\n",
    "            image = Image.fromarray(image)\n",
    "            image = image.resize((SIZE, SIZE))\n",
    "            image_dataset.append(np.array(image))\n",
    "\n",
    "\n",
    "        name, ext = os.path.splitext(filename)\n",
    "        name = name.split(\"/\")[1]\n",
    "        w, h = img.size\n",
    "        grid = product(range(0, h - h % d, d), range(0, w - w % d, d))\n",
    "        \n",
    "        for i, j in grid:\n",
    "            box = (j, i, j + d, i + d)\n",
    "            cropped = img.crop(box)\n",
    "            output = os.path.join(dir_out, f\"{name}_{i}_{j}{ext}\")\n",
    "            cv2.imwrite(output, cropped)\n",
    "\n",
    "\n",
    "\n",
    "\n",
    "#Iterate through all images in Uninfected folder, resize to 64 x 64\n",
    "#Then save into the same numpy array 'dataset' but with label 1\n",
    "\n",
    "masks = os.listdir(mask_directory)\n",
    "for i, image_name in enumerate(masks):\n",
    "    if (image_name.split('.')[1] == 'tif'):\n",
    "        image = cv2.imread(mask_directory+image_name, 0)\n",
    "        image = Image.fromarray(image)\n",
    "        image = image.resize((SIZE, SIZE))\n",
    "        mask_dataset.append(np.array(image))\n",
    "\n",
    "\n",
    "#Normalize images\n",
    "image_dataset = np.expand_dims(normalize(np.array(image_dataset), axis=1),3)\n",
    "#D not normalize masks, just rescale to 0 to 1.\n",
    "mask_dataset = np.expand_dims((np.array(mask_dataset)),3) /255.\n",
    "\n",
    "\n",
    "from sklearn.model_selection import train_test_split\n",
    "X_train, X_test, y_train, y_test = train_test_split(image_dataset, mask_dataset, test_size = 0.10, random_state = 0)\n",
    "\n",
    "#Sanity check, view few mages\n",
    "import random\n",
    "import numpy as np\n",
    "image_number = random.randint(0, len(X_train))\n",
    "plt.figure(figsize=(12, 6))\n",
    "plt.subplot(121)\n",
    "plt.imshow(np.reshape(X_train[image_number], (256, 256)), cmap='gray')\n",
    "plt.subplot(122)\n",
    "plt.imshow(np.reshape(y_train[image_number], (256, 256)), cmap='gray')\n",
    "plt.show()"
   ]
  }
 ],
 "metadata": {
  "interpreter": {
   "hash": "fce1c7022bfe12e6241fab6e134680d8fdeb514a4f69a8524f2634ae3ff58bfb"
  },
  "kernelspec": {
   "display_name": "Python 3.9.8 ('.venv': venv)",
   "language": "python",
   "name": "python3"
  },
  "language_info": {
   "codemirror_mode": {
    "name": "ipython",
    "version": 3
   },
   "file_extension": ".py",
   "mimetype": "text/x-python",
   "name": "python",
   "nbconvert_exporter": "python",
   "pygments_lexer": "ipython3",
   "version": "3.9.8"
  }
 },
 "nbformat": 4,
 "nbformat_minor": 2
}
