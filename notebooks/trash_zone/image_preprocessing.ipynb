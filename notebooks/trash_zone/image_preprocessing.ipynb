{
 "cells": [
  {
   "cell_type": "markdown",
   "metadata": {},
   "source": [
    "https://hydro-informatics.com/jupyter/geo-convert.html"
   ]
  },
  {
   "cell_type": "code",
   "execution_count": null,
   "metadata": {},
   "outputs": [],
   "source": [
    "from osgeo import gdal\n",
    "from osgeo import osr\n",
    "from osgeo import ogr"
   ]
  },
  {
   "cell_type": "code",
   "execution_count": null,
   "metadata": {},
   "outputs": [],
   "source": [
    "def rasterize(in_shp_file_name, out_raster_file_name, pixel_size=10, no_data_value=-9999,\n",
    "              rdtype=gdal.GDT_Float32, **kwargs):\n",
    "    \"\"\"\n",
    "    Converts any shapefile to a raster\n",
    "    :param in_shp_file_name: STR of a shapefile name (with directory e.g., \"C:/temp/poly.shp\")\n",
    "    :param out_raster_file_name: STR of target file name, including directory; must end on \".tif\"\n",
    "    :param pixel_size: INT of pixel size (default: 10)\n",
    "    :param no_data_value: Numeric (INT/FLOAT) for no-data pixels (default: -9999)\n",
    "    :param rdtype: gdal.GDALDataType raster data type - default=gdal.GDT_Float32 (32 bit floating point)\n",
    "    :kwarg field_name: name of the shapefile's field with values to burn to the raster\n",
    "    :return: produces the shapefile defined with in_shp_file_name\n",
    "    \"\"\"\n",
    "\n",
    "    # open data source\n",
    "    try:\n",
    "        source_ds = ogr.Open(in_shp_file_name)\n",
    "    except RuntimeError as e:\n",
    "        print(\"Error: Could not open %s.\" % str(in_shp_file_name))\n",
    "        return None\n",
    "    source_lyr = source_ds.GetLayer()\n",
    "\n",
    "    # read extent\n",
    "    x_min, x_max, y_min, y_max = source_lyr.GetExtent()\n",
    "\n",
    "    # get x and y resolution\n",
    "    x_res = int((x_max - x_min) / pixel_size)\n",
    "    y_res = int((y_max - y_min) / pixel_size)\n",
    "\n",
    "    # create destination data source (GeoTIff raster)\n",
    "    target_ds = gdal.GetDriverByName('GTiff').Create(out_raster_file_name, x_res, y_res, 1, eType=rdtype)\n",
    "    target_ds.SetGeoTransform((x_min, pixel_size, 0, y_max, 0, -pixel_size))\n",
    "    band = target_ds.GetRasterBand(1)\n",
    "    band.Fill(no_data_value)\n",
    "    band.SetNoDataValue(no_data_value)\n",
    "\n",
    "    # get spatial reference system and assign to raster\n",
    "    srs = get_srs(source_ds)\n",
    "    try:\n",
    "        srs.ImportFromEPSG(int(srs.GetAuthorityCode(None)))\n",
    "    except RuntimeError as e:\n",
    "        print(e)\n",
    "        return None\n",
    "    target_ds.SetProjection(srs.ExportToWkt())\n",
    "\n",
    "    # RasterizeLayer(Dataset dataset, int bands, Layer layer, pfnTransformer=None, pTransformArg=None,\n",
    "    # int burn_values=0, options=None, GDALProgressFunc callback=0, callback_data=None)\n",
    "    gdal.RasterizeLayer(target_ds, [1], source_lyr, None, None, burn_values=[0],\n",
    "                                options=[\"ALL_TOUCHED=TRUE\", \"ATTRIBUTE=\" + str(kwargs.get(\"field_name\"))])\n",
    "\n",
    "    # release raster band\n",
    "    band.FlushCache()"
   ]
  }
 ],
 "metadata": {
  "interpreter": {
   "hash": "fce1c7022bfe12e6241fab6e134680d8fdeb514a4f69a8524f2634ae3ff58bfb"
  },
  "kernelspec": {
   "display_name": "Python 3.9.8 ('.venv': venv)",
   "language": "python",
   "name": "python3"
  },
  "language_info": {
   "codemirror_mode": {
    "name": "ipython",
    "version": 3
   },
   "file_extension": ".py",
   "mimetype": "text/x-python",
   "name": "python",
   "nbconvert_exporter": "python",
   "pygments_lexer": "ipython3",
   "version": "3.9.8"
  }
 },
 "nbformat": 4,
 "nbformat_minor": 2
}
